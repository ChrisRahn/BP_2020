{
 "cells": [
  {
   "cell_type": "code",
   "execution_count": 58,
   "metadata": {},
   "outputs": [],
   "source": [
    "# Setup\n",
    "\n",
    "import anndata\n",
    "import pandas as pd\n",
    "import numpy as np\n",
    "import matplotlib.pyplot as plt\n",
    "import matplotlib as mpl\n",
    "import matplotlib.patches as mpatches\n",
    "import scanpy as sc\n",
    "import glob\n",
    "from scipy import stats\n",
    "\n",
    "from collections import OrderedDict\n",
    "from sklearn.decomposition import TruncatedSVD\n",
    "from sklearn.manifold import TSNE\n",
    "from sklearn.preprocessing import scale\n",
    "\n",
    "from sklearn.cluster import KMeans\n",
    "from sklearn.preprocessing import normalize\n",
    "from sklearn.preprocessing import LabelEncoder\n",
    "from sklearn.neighbors import NeighborhoodComponentsAnalysis\n",
    "from matplotlib import cm\n",
    "from matplotlib.lines import Line2D\n",
    "\n",
    "def nd(arr):\n",
    "    return np.asarray(arr).reshape(-1)\n",
    "def yex(ax):\n",
    "    lims = [np.min([ax.get_xlim(), ax.get_ylim()]),\n",
    "            np.max([ax.get_xlim(), ax.get_ylim()])]\n",
    "\n",
    "    # now plot both limits against eachother\n",
    "    ax.plot(lims, lims, 'k-', alpha=0.75, zorder=0)\n",
    "    ax.set_aspect('equal')\n",
    "    ax.set_xlim(lims)\n",
    "    ax.set_ylim(lims)\n",
    "    return ax\n",
    "\n",
    "def trim_axs(axs, N):\n",
    "    \"\"\"little helper to massage the axs list to have correct length...\"\"\"\n",
    "    axs = axs.flat\n",
    "    for ax in axs[N:]:\n",
    "        ax.remove()\n",
    "    return axs[:N]\n",
    "\n",
    "import warnings\n",
    "warnings.filterwarnings('ignore')\n",
    "\n",
    "fsize=20\n",
    "\n",
    "plt.rcParams.update({'font.size': fsize})\n",
    "%config InlineBackend.figure_format = 'retina'"
   ]
  },
  {
   "cell_type": "code",
   "execution_count": 59,
   "metadata": {},
   "outputs": [],
   "source": [
    "files = glob.glob(\"/home/sina/projects/mouse_lung/*_fs_bulk/out/abundance.tsv\")"
   ]
  },
  {
   "cell_type": "code",
   "execution_count": 60,
   "metadata": {},
   "outputs": [],
   "source": [
    "cols = [\"target_id\",\"length\",\"eff_length\",\"est_counts\",\"tpm\",\"SRR\"]"
   ]
  },
  {
   "cell_type": "code",
   "execution_count": 61,
   "metadata": {},
   "outputs": [],
   "source": [
    "age_map ={\"SRR8426379\": 3,\n",
    "            \"SRR8426380\": 22,\n",
    "            \"SRR8426381\": 3,\n",
    "            \"SRR8426382\": 22,\n",
    "            \"SRR8426383\": 3,\n",
    "            \"SRR8426384\": 22,\n",
    "            \"SRR8426395\": 3,\n",
    "            \"SRR8426397\": 22}"
   ]
  },
  {
   "cell_type": "code",
   "execution_count": 62,
   "metadata": {},
   "outputs": [],
   "source": [
    "t2g = pd.read_csv(\"../reference/t2g.txt\", header=None, names=[\"tid\", \"gene_id\", \"gene_name\"], sep=\"\\t\")\n",
    "t2g.index = t2g.tid\n",
    "t2g = t2g.loc[~t2g.index.duplicated(keep='first')]"
   ]
  },
  {
   "cell_type": "code",
   "execution_count": 63,
   "metadata": {},
   "outputs": [
    {
     "name": "stdout",
     "output_type": "stream",
     "text": [
      "CPU times: user 1.14 s, sys: 103 ms, total: 1.25 s\n",
      "Wall time: 1.24 s\n"
     ]
    }
   ],
   "source": [
    "%%time\n",
    "data = []\n",
    "for fn, f in enumerate(files):\n",
    "    tmp = pd.read_csv(f, sep=\"\\t\")\n",
    "    tmp[\"SRR\"] = f.split(\"/\")[-3].split(\"_\")[0]\n",
    "    tmp[\"age\"] = tmp[\"SRR\"].map(age_map)\n",
    "    tmp[\"gene_name\"] = tmp[\"target_id\"].map(t2g[\"gene_name\"])\n",
    "    data.append(tmp)"
   ]
  },
  {
   "cell_type": "code",
   "execution_count": 64,
   "metadata": {},
   "outputs": [],
   "source": [
    "df = pd.concat(data, ignore_index=True)"
   ]
  },
  {
   "cell_type": "code",
   "execution_count": 65,
   "metadata": {},
   "outputs": [],
   "source": [
    "df.to_csv(\"write/fs_bulk.csv\")"
   ]
  },
  {
   "cell_type": "code",
   "execution_count": 66,
   "metadata": {},
   "outputs": [
    {
     "data": {
      "text/html": [
       "<div>\n",
       "<style scoped>\n",
       "    .dataframe tbody tr th:only-of-type {\n",
       "        vertical-align: middle;\n",
       "    }\n",
       "\n",
       "    .dataframe tbody tr th {\n",
       "        vertical-align: top;\n",
       "    }\n",
       "\n",
       "    .dataframe thead th {\n",
       "        text-align: right;\n",
       "    }\n",
       "</style>\n",
       "<table border=\"1\" class=\"dataframe\">\n",
       "  <thead>\n",
       "    <tr style=\"text-align: right;\">\n",
       "      <th></th>\n",
       "      <th>target_id</th>\n",
       "      <th>length</th>\n",
       "      <th>eff_length</th>\n",
       "      <th>est_counts</th>\n",
       "      <th>tpm</th>\n",
       "      <th>SRR</th>\n",
       "      <th>age</th>\n",
       "      <th>gene_name</th>\n",
       "    </tr>\n",
       "  </thead>\n",
       "  <tbody>\n",
       "    <tr>\n",
       "      <th>0</th>\n",
       "      <td>ENSMUST00000000266.8</td>\n",
       "      <td>1697</td>\n",
       "      <td>1452.8500</td>\n",
       "      <td>0.0000</td>\n",
       "      <td>0.000000</td>\n",
       "      <td>SRR8426381</td>\n",
       "      <td>3</td>\n",
       "      <td>Ifi202b</td>\n",
       "    </tr>\n",
       "    <tr>\n",
       "      <th>1</th>\n",
       "      <td>ENSMUST00000000514.10</td>\n",
       "      <td>3001</td>\n",
       "      <td>2756.8500</td>\n",
       "      <td>115.8070</td>\n",
       "      <td>2.751670</td>\n",
       "      <td>SRR8426381</td>\n",
       "      <td>3</td>\n",
       "      <td>Serpinb8</td>\n",
       "    </tr>\n",
       "    <tr>\n",
       "      <th>2</th>\n",
       "      <td>ENSMUST00000000834.3</td>\n",
       "      <td>1937</td>\n",
       "      <td>1692.8500</td>\n",
       "      <td>0.0000</td>\n",
       "      <td>0.000000</td>\n",
       "      <td>SRR8426381</td>\n",
       "      <td>3</td>\n",
       "      <td>Fasl</td>\n",
       "    </tr>\n",
       "    <tr>\n",
       "      <th>3</th>\n",
       "      <td>ENSMUST00000001027.6</td>\n",
       "      <td>4423</td>\n",
       "      <td>4178.8500</td>\n",
       "      <td>50.9506</td>\n",
       "      <td>0.798668</td>\n",
       "      <td>SRR8426381</td>\n",
       "      <td>3</td>\n",
       "      <td>Aox1</td>\n",
       "    </tr>\n",
       "    <tr>\n",
       "      <th>4</th>\n",
       "      <td>ENSMUST00000001166.13</td>\n",
       "      <td>5193</td>\n",
       "      <td>4948.8500</td>\n",
       "      <td>2.0000</td>\n",
       "      <td>0.026473</td>\n",
       "      <td>SRR8426381</td>\n",
       "      <td>3</td>\n",
       "      <td>Cnnm3</td>\n",
       "    </tr>\n",
       "    <tr>\n",
       "      <th>...</th>\n",
       "      <td>...</td>\n",
       "      <td>...</td>\n",
       "      <td>...</td>\n",
       "      <td>...</td>\n",
       "      <td>...</td>\n",
       "      <td>...</td>\n",
       "      <td>...</td>\n",
       "      <td>...</td>\n",
       "    </tr>\n",
       "    <tr>\n",
       "      <th>1139563</th>\n",
       "      <td>ENSMUST00000238742.1</td>\n",
       "      <td>255</td>\n",
       "      <td>89.8678</td>\n",
       "      <td>0.0000</td>\n",
       "      <td>0.000000</td>\n",
       "      <td>SRR8426380</td>\n",
       "      <td>22</td>\n",
       "      <td>AC196443.1</td>\n",
       "    </tr>\n",
       "    <tr>\n",
       "      <th>1139564</th>\n",
       "      <td>ENSMUST00000238758.1</td>\n",
       "      <td>1272</td>\n",
       "      <td>1038.1800</td>\n",
       "      <td>0.0000</td>\n",
       "      <td>0.000000</td>\n",
       "      <td>SRR8426380</td>\n",
       "      <td>22</td>\n",
       "      <td>Gm47283</td>\n",
       "    </tr>\n",
       "    <tr>\n",
       "      <th>1139565</th>\n",
       "      <td>ENSMUST00000238760.1</td>\n",
       "      <td>543</td>\n",
       "      <td>311.5040</td>\n",
       "      <td>0.0000</td>\n",
       "      <td>0.000000</td>\n",
       "      <td>SRR8426380</td>\n",
       "      <td>22</td>\n",
       "      <td>AC147627.1</td>\n",
       "    </tr>\n",
       "    <tr>\n",
       "      <th>1139566</th>\n",
       "      <td>ENSMUST00000238762.1</td>\n",
       "      <td>358</td>\n",
       "      <td>146.3470</td>\n",
       "      <td>0.0000</td>\n",
       "      <td>0.000000</td>\n",
       "      <td>SRR8426380</td>\n",
       "      <td>22</td>\n",
       "      <td>AC196443.1</td>\n",
       "    </tr>\n",
       "    <tr>\n",
       "      <th>1139567</th>\n",
       "      <td>ENSMUST00000238766.1</td>\n",
       "      <td>568</td>\n",
       "      <td>335.8100</td>\n",
       "      <td>0.0000</td>\n",
       "      <td>0.000000</td>\n",
       "      <td>SRR8426380</td>\n",
       "      <td>22</td>\n",
       "      <td>AC196443.1</td>\n",
       "    </tr>\n",
       "  </tbody>\n",
       "</table>\n",
       "<p>1139568 rows × 8 columns</p>\n",
       "</div>"
      ],
      "text/plain": [
       "                     target_id  length  eff_length  est_counts       tpm  \\\n",
       "0         ENSMUST00000000266.8    1697   1452.8500      0.0000  0.000000   \n",
       "1        ENSMUST00000000514.10    3001   2756.8500    115.8070  2.751670   \n",
       "2         ENSMUST00000000834.3    1937   1692.8500      0.0000  0.000000   \n",
       "3         ENSMUST00000001027.6    4423   4178.8500     50.9506  0.798668   \n",
       "4        ENSMUST00000001166.13    5193   4948.8500      2.0000  0.026473   \n",
       "...                        ...     ...         ...         ...       ...   \n",
       "1139563   ENSMUST00000238742.1     255     89.8678      0.0000  0.000000   \n",
       "1139564   ENSMUST00000238758.1    1272   1038.1800      0.0000  0.000000   \n",
       "1139565   ENSMUST00000238760.1     543    311.5040      0.0000  0.000000   \n",
       "1139566   ENSMUST00000238762.1     358    146.3470      0.0000  0.000000   \n",
       "1139567   ENSMUST00000238766.1     568    335.8100      0.0000  0.000000   \n",
       "\n",
       "                SRR  age   gene_name  \n",
       "0        SRR8426381    3     Ifi202b  \n",
       "1        SRR8426381    3    Serpinb8  \n",
       "2        SRR8426381    3        Fasl  \n",
       "3        SRR8426381    3        Aox1  \n",
       "4        SRR8426381    3       Cnnm3  \n",
       "...             ...  ...         ...  \n",
       "1139563  SRR8426380   22  AC196443.1  \n",
       "1139564  SRR8426380   22     Gm47283  \n",
       "1139565  SRR8426380   22  AC147627.1  \n",
       "1139566  SRR8426380   22  AC196443.1  \n",
       "1139567  SRR8426380   22  AC196443.1  \n",
       "\n",
       "[1139568 rows x 8 columns]"
      ]
     },
     "execution_count": 66,
     "metadata": {},
     "output_type": "execute_result"
    }
   ],
   "source": [
    "df"
   ]
  },
  {
   "cell_type": "code",
   "execution_count": null,
   "metadata": {},
   "outputs": [],
   "source": []
  },
  {
   "cell_type": "markdown",
   "metadata": {},
   "source": [
    "# ACE2"
   ]
  },
  {
   "cell_type": "code",
   "execution_count": 67,
   "metadata": {},
   "outputs": [],
   "source": [
    "ace2 = df[df[\"gene_name\"] == \"Ace2\"]"
   ]
  },
  {
   "cell_type": "code",
   "execution_count": 68,
   "metadata": {},
   "outputs": [],
   "source": [
    "tmp = pd.DataFrame(ace2.groupby([\"SRR\", \"gene_name\"])[\"tpm\"].sum()).reset_index()\n",
    "tmp[\"age\"] = tmp.SRR.map(age_map)"
   ]
  },
  {
   "cell_type": "code",
   "execution_count": 69,
   "metadata": {},
   "outputs": [
    {
     "data": {
      "text/html": [
       "<div>\n",
       "<style scoped>\n",
       "    .dataframe tbody tr th:only-of-type {\n",
       "        vertical-align: middle;\n",
       "    }\n",
       "\n",
       "    .dataframe tbody tr th {\n",
       "        vertical-align: top;\n",
       "    }\n",
       "\n",
       "    .dataframe thead th {\n",
       "        text-align: right;\n",
       "    }\n",
       "</style>\n",
       "<table border=\"1\" class=\"dataframe\">\n",
       "  <thead>\n",
       "    <tr style=\"text-align: right;\">\n",
       "      <th></th>\n",
       "      <th>SRR</th>\n",
       "      <th>gene_name</th>\n",
       "      <th>tpm</th>\n",
       "      <th>age</th>\n",
       "    </tr>\n",
       "  </thead>\n",
       "  <tbody>\n",
       "    <tr>\n",
       "      <th>0</th>\n",
       "      <td>SRR8426379</td>\n",
       "      <td>Ace2</td>\n",
       "      <td>0.141187</td>\n",
       "      <td>3</td>\n",
       "    </tr>\n",
       "    <tr>\n",
       "      <th>1</th>\n",
       "      <td>SRR8426380</td>\n",
       "      <td>Ace2</td>\n",
       "      <td>4.604920</td>\n",
       "      <td>22</td>\n",
       "    </tr>\n",
       "    <tr>\n",
       "      <th>2</th>\n",
       "      <td>SRR8426381</td>\n",
       "      <td>Ace2</td>\n",
       "      <td>2.852210</td>\n",
       "      <td>3</td>\n",
       "    </tr>\n",
       "    <tr>\n",
       "      <th>3</th>\n",
       "      <td>SRR8426382</td>\n",
       "      <td>Ace2</td>\n",
       "      <td>3.613150</td>\n",
       "      <td>22</td>\n",
       "    </tr>\n",
       "    <tr>\n",
       "      <th>4</th>\n",
       "      <td>SRR8426383</td>\n",
       "      <td>Ace2</td>\n",
       "      <td>0.896569</td>\n",
       "      <td>3</td>\n",
       "    </tr>\n",
       "    <tr>\n",
       "      <th>5</th>\n",
       "      <td>SRR8426384</td>\n",
       "      <td>Ace2</td>\n",
       "      <td>3.716201</td>\n",
       "      <td>22</td>\n",
       "    </tr>\n",
       "    <tr>\n",
       "      <th>6</th>\n",
       "      <td>SRR8426395</td>\n",
       "      <td>Ace2</td>\n",
       "      <td>2.346794</td>\n",
       "      <td>3</td>\n",
       "    </tr>\n",
       "    <tr>\n",
       "      <th>7</th>\n",
       "      <td>SRR8426397</td>\n",
       "      <td>Ace2</td>\n",
       "      <td>1.236348</td>\n",
       "      <td>22</td>\n",
       "    </tr>\n",
       "  </tbody>\n",
       "</table>\n",
       "</div>"
      ],
      "text/plain": [
       "          SRR gene_name       tpm  age\n",
       "0  SRR8426379      Ace2  0.141187    3\n",
       "1  SRR8426380      Ace2  4.604920   22\n",
       "2  SRR8426381      Ace2  2.852210    3\n",
       "3  SRR8426382      Ace2  3.613150   22\n",
       "4  SRR8426383      Ace2  0.896569    3\n",
       "5  SRR8426384      Ace2  3.716201   22\n",
       "6  SRR8426395      Ace2  2.346794    3\n",
       "7  SRR8426397      Ace2  1.236348   22"
      ]
     },
     "execution_count": 69,
     "metadata": {},
     "output_type": "execute_result"
    }
   ],
   "source": [
    "tmp"
   ]
  },
  {
   "cell_type": "code",
   "execution_count": 70,
   "metadata": {},
   "outputs": [],
   "source": [
    "young = tmp[tmp.age==3]['tpm'].values\n",
    "old = tmp[tmp.age==22]['tpm'].values\n",
    "stat, p = stats.ttest_ind(young, old)"
   ]
  },
  {
   "cell_type": "code",
   "execution_count": 71,
   "metadata": {},
   "outputs": [
    {
     "data": {
      "image/png": "[encoded data removed]",
      "text/plain": [
       "<Figure size 504x504 with 1 Axes>"
      ]
     },
     "metadata": {
      "image/png": {
       "height": 421,
       "width": 450
      },
      "needs_background": "light"
     },
     "output_type": "display_data"
    }
   ],
   "source": [
    "fig, ax = plt.subplots(figsize=(7,7))\n",
    "\n",
    "gene = \"ACE2\"\n",
    "\n",
    "labels = ['3 month', \"22 month\"]\n",
    "lidx = [1, 2]\n",
    "\n",
    "\n",
    "x = [young, old]\n",
    "\n",
    "parts = ax.violinplot(x, showmedians=False, showextrema=False)\n",
    "for pcidx, pc in enumerate(parts['bodies']):\n",
    "    pc.set_facecolor('#D43F3A')\n",
    "    if pcidx==1: pc.set_facecolor('#1f77b4')\n",
    "    pc.set_edgecolor('black')\n",
    "    pc.set_alpha(1)\n",
    "\n",
    "    \n",
    "mean = [np.mean(i) for i in x]\n",
    "ax.scatter(lidx, mean, marker='o', color='white', s=30, zorder=3)\n",
    "\n",
    "\n",
    "######## Add some random \"jitter\" to the x-axis\n",
    "x = np.random.normal(1, 0.04, size=len(young))\n",
    "ax.scatter(x, young, alpha=1, color=\"k\")\n",
    "\n",
    "x = np.random.normal(2, 0.04, size=len(old))\n",
    "ax.scatter(x, old, alpha=1, color=\"k\")\n",
    "\n",
    "##########\n",
    "ax.set_xticks(lidx)\n",
    "ax.set_xticklabels(labels)\n",
    "\n",
    "\n",
    "\n",
    "ax.annotate(\"p={:,.4f}\".format(p), (1.5, ax.get_ylim()[1]*0.02), ha=\"center\")\n",
    "\n",
    "ax.set_ylim(-0.1)\n",
    "\n",
    "ax.set_ylabel(\"Epithelium bulk $ACE2$ TPM\")\n",
    "plt.savefig(\"./figs/epi_bulk_ace2.png\", bbox_inches='tight',dpi=300)\n",
    "\n",
    "plt.show()"
   ]
  },
  {
   "cell_type": "code",
   "execution_count": 72,
   "metadata": {},
   "outputs": [
    {
     "data": {
      "text/plain": [
       "0.4735357995705331"
      ]
     },
     "execution_count": 72,
     "metadata": {},
     "output_type": "execute_result"
    }
   ],
   "source": [
    "young.mean()/old.mean()"
   ]
  },
  {
   "cell_type": "code",
   "execution_count": 73,
   "metadata": {},
   "outputs": [
    {
     "data": {
      "text/plain": [
       "2.111772754894005"
      ]
     },
     "execution_count": 73,
     "metadata": {},
     "output_type": "execute_result"
    }
   ],
   "source": [
    "old.mean()/young.mean()"
   ]
  },
  {
   "cell_type": "markdown",
   "metadata": {},
   "source": [
    "# TMPRS22"
   ]
  },
  {
   "cell_type": "code",
   "execution_count": 51,
   "metadata": {},
   "outputs": [],
   "source": [
    "tmprss2 = df[df[\"gene_name\"] == \"Tmprss2\"]"
   ]
  },
  {
   "cell_type": "code",
   "execution_count": 52,
   "metadata": {},
   "outputs": [],
   "source": [
    "tmp = pd.DataFrame(tmprss2.groupby([\"SRR\", \"gene_name\"])[\"tpm\"].sum()).reset_index()\n",
    "tmp[\"age\"] = tmp.SRR.map(age_map)"
   ]
  },
  {
   "cell_type": "code",
   "execution_count": 53,
   "metadata": {},
   "outputs": [
    {
     "data": {
      "text/html": [
       "<div>\n",
       "<style scoped>\n",
       "    .dataframe tbody tr th:only-of-type {\n",
       "        vertical-align: middle;\n",
       "    }\n",
       "\n",
       "    .dataframe tbody tr th {\n",
       "        vertical-align: top;\n",
       "    }\n",
       "\n",
       "    .dataframe thead th {\n",
       "        text-align: right;\n",
       "    }\n",
       "</style>\n",
       "<table border=\"1\" class=\"dataframe\">\n",
       "  <thead>\n",
       "    <tr style=\"text-align: right;\">\n",
       "      <th></th>\n",
       "      <th>SRR</th>\n",
       "      <th>gene_name</th>\n",
       "      <th>tpm</th>\n",
       "      <th>age</th>\n",
       "    </tr>\n",
       "  </thead>\n",
       "  <tbody>\n",
       "    <tr>\n",
       "      <th>0</th>\n",
       "      <td>SRR8426379</td>\n",
       "      <td>Tmprss2</td>\n",
       "      <td>7.680632</td>\n",
       "      <td>3</td>\n",
       "    </tr>\n",
       "    <tr>\n",
       "      <th>1</th>\n",
       "      <td>SRR8426380</td>\n",
       "      <td>Tmprss2</td>\n",
       "      <td>7.379650</td>\n",
       "      <td>22</td>\n",
       "    </tr>\n",
       "    <tr>\n",
       "      <th>2</th>\n",
       "      <td>SRR8426381</td>\n",
       "      <td>Tmprss2</td>\n",
       "      <td>6.141701</td>\n",
       "      <td>3</td>\n",
       "    </tr>\n",
       "    <tr>\n",
       "      <th>3</th>\n",
       "      <td>SRR8426382</td>\n",
       "      <td>Tmprss2</td>\n",
       "      <td>9.425727</td>\n",
       "      <td>22</td>\n",
       "    </tr>\n",
       "    <tr>\n",
       "      <th>4</th>\n",
       "      <td>SRR8426383</td>\n",
       "      <td>Tmprss2</td>\n",
       "      <td>2.571005</td>\n",
       "      <td>3</td>\n",
       "    </tr>\n",
       "    <tr>\n",
       "      <th>5</th>\n",
       "      <td>SRR8426384</td>\n",
       "      <td>Tmprss2</td>\n",
       "      <td>11.889348</td>\n",
       "      <td>22</td>\n",
       "    </tr>\n",
       "    <tr>\n",
       "      <th>6</th>\n",
       "      <td>SRR8426395</td>\n",
       "      <td>Tmprss2</td>\n",
       "      <td>5.039232</td>\n",
       "      <td>3</td>\n",
       "    </tr>\n",
       "    <tr>\n",
       "      <th>7</th>\n",
       "      <td>SRR8426397</td>\n",
       "      <td>Tmprss2</td>\n",
       "      <td>2.835130</td>\n",
       "      <td>22</td>\n",
       "    </tr>\n",
       "  </tbody>\n",
       "</table>\n",
       "</div>"
      ],
      "text/plain": [
       "          SRR gene_name        tpm  age\n",
       "0  SRR8426379   Tmprss2   7.680632    3\n",
       "1  SRR8426380   Tmprss2   7.379650   22\n",
       "2  SRR8426381   Tmprss2   6.141701    3\n",
       "3  SRR8426382   Tmprss2   9.425727   22\n",
       "4  SRR8426383   Tmprss2   2.571005    3\n",
       "5  SRR8426384   Tmprss2  11.889348   22\n",
       "6  SRR8426395   Tmprss2   5.039232    3\n",
       "7  SRR8426397   Tmprss2   2.835130   22"
      ]
     },
     "execution_count": 53,
     "metadata": {},
     "output_type": "execute_result"
    }
   ],
   "source": [
    "tmp"
   ]
  },
  {
   "cell_type": "code",
   "execution_count": 54,
   "metadata": {},
   "outputs": [
    {
     "data": {
      "text/plain": [
       "age\n",
       "3     5.358142\n",
       "22    7.882464\n",
       "Name: tpm, dtype: float64"
      ]
     },
     "execution_count": 54,
     "metadata": {},
     "output_type": "execute_result"
    }
   ],
   "source": [
    "tmp.groupby(\"age\")[\"tpm\"].mean()"
   ]
  },
  {
   "cell_type": "code",
   "execution_count": null,
   "metadata": {},
   "outputs": [],
   "source": []
  },
  {
   "cell_type": "code",
   "execution_count": 55,
   "metadata": {},
   "outputs": [],
   "source": [
    "young = tmp[tmp.age==3]['tpm'].values\n",
    "old = tmp[tmp.age==22]['tpm'].values\n",
    "stat, p = stats.ttest_ind(young, old)"
   ]
  },
  {
   "cell_type": "code",
   "execution_count": 56,
   "metadata": {},
   "outputs": [
    {
     "data": {
      "image/png": "[encoded data removed]",
      "text/plain": [
       "<Figure size 504x504 with 1 Axes>"
      ]
     },
     "metadata": {
      "image/png": {
       "height": 421,
       "width": 463
      },
      "needs_background": "light"
     },
     "output_type": "display_data"
    }
   ],
   "source": [
    "fig, ax = plt.subplots(figsize=(7,7))\n",
    "\n",
    "gene = \"ACE2\"\n",
    "\n",
    "labels = ['3 month', \"22 month\"]\n",
    "lidx = [1, 2]\n",
    "\n",
    "\n",
    "x = [young, old]\n",
    "\n",
    "parts = ax.violinplot(x, showmedians=False, showextrema=False)\n",
    "for pcidx, pc in enumerate(parts['bodies']):\n",
    "    pc.set_facecolor('#D43F3A')\n",
    "    if pcidx==1: pc.set_facecolor('#1f77b4')\n",
    "    pc.set_edgecolor('black')\n",
    "    pc.set_alpha(1)\n",
    "\n",
    "    \n",
    "mean = [np.mean(i) for i in x]\n",
    "ax.scatter(lidx, mean, marker='o', color='white', s=30, zorder=3)\n",
    "\n",
    "\n",
    "######## Add some random \"jitter\" to the x-axis\n",
    "x = np.random.normal(1, 0.04, size=len(young))\n",
    "ax.scatter(x, young, alpha=1, color=\"k\")\n",
    "\n",
    "x = np.random.normal(2, 0.04, size=len(old))\n",
    "ax.scatter(x, old, alpha=1, color=\"k\")\n",
    "\n",
    "##########\n",
    "ax.set_xticks(lidx)\n",
    "ax.set_xticklabels(labels)\n",
    "\n",
    "\n",
    "\n",
    "ax.annotate(\"p={:,.4f}\".format(p), (1.5, ax.get_ylim()[1]*0.02), ha=\"center\")\n",
    "\n",
    "ax.set_ylim(-0.1)\n",
    "\n",
    "ax.set_ylabel(\"Epithelium bulk $TPMRSS2$ TPM\")\n",
    "plt.savefig(\"./figs/epi_bulk_tmprss2.png\", bbox_inches='tight',dpi=300)\n",
    "\n",
    "plt.show()"
   ]
  },
  {
   "cell_type": "code",
   "execution_count": 57,
   "metadata": {},
   "outputs": [
    {
     "data": {
      "text/plain": [
       "0.679754776291376"
      ]
     },
     "execution_count": 57,
     "metadata": {},
     "output_type": "execute_result"
    }
   ],
   "source": [
    "young.mean()/old.mean()"
   ]
  },
  {
   "cell_type": "code",
   "execution_count": null,
   "metadata": {},
   "outputs": [],
   "source": []
  }
 ],
 "metadata": {
  "anaconda-cloud": {},
  "colab": {
   "include_colab_link": true,
   "name": "mouse_lung.ipynb",
   "provenance": [],
   "toc_visible": true
  },
  "kernelspec": {
   "display_name": "Python 3",
   "language": "python",
   "name": "python3"
  },
  "language_info": {
   "codemirror_mode": {
    "name": "ipython",
    "version": 3
   },
   "file_extension": ".py",
   "mimetype": "text/x-python",
   "name": "python",
   "nbconvert_exporter": "python",
   "pygments_lexer": "ipython3",
   "version": "3.7.4"
  }
 },
 "nbformat": 4,
 "nbformat_minor": 4
}
