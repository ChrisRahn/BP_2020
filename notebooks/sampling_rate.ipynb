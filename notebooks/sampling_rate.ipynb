{
 "cells": [
  {
   "cell_type": "code",
   "execution_count": 1,
   "metadata": {},
   "outputs": [
    {
     "name": "stderr",
     "output_type": "stream",
     "text": [
      "/home/sina/bin/miniconda3/lib/python3.7/site-packages/anndata/_core/anndata.py:21: FutureWarning: pandas.core.index is deprecated and will be removed in a future version.  The public classes are available in the top-level namespace.\n",
      "  from pandas.core.index import RangeIndex\n"
     ]
    }
   ],
   "source": [
    "import glob\n",
    "import anndata\n",
    "import pandas as pd\n",
    "import numpy as np\n",
    "import matplotlib.pyplot as plt\n",
    "import matplotlib as mpl\n",
    "import matplotlib.patches as mpatches\n",
    "import scanpy as sc\n",
    "from scipy import stats\n",
    "\n",
    "from collections import OrderedDict\n",
    "from sklearn.decomposition import TruncatedSVD\n",
    "from sklearn.manifold import TSNE\n",
    "from sklearn.preprocessing import scale\n",
    "\n",
    "from sklearn.cluster import KMeans\n",
    "from sklearn.preprocessing import normalize\n",
    "from sklearn.preprocessing import LabelEncoder\n",
    "from sklearn.neighbors import NeighborhoodComponentsAnalysis\n",
    "from matplotlib import cm\n",
    "from matplotlib.lines import Line2D\n",
    "\n",
    "def nd(arr):\n",
    "    return np.asarray(arr).reshape(-1)\n",
    "def yex(ax):\n",
    "    lims = [np.min([ax.get_xlim(), ax.get_ylim()]),\n",
    "            np.max([ax.get_xlim(), ax.get_ylim()])]\n",
    "\n",
    "    # now plot both limits against eachother\n",
    "    ax.plot(lims, lims, 'k-', alpha=0.75, zorder=0)\n",
    "    ax.set_aspect('equal')\n",
    "    ax.set_xlim(lims)\n",
    "    ax.set_ylim(lims)\n",
    "    return ax\n",
    "\n",
    "def trim_axs(axs, N):\n",
    "    \"\"\"little helper to massage the axs list to have correct length...\"\"\"\n",
    "    axs = axs.flat\n",
    "    for ax in axs[N:]:\n",
    "        ax.remove()\n",
    "    return axs[:N]\n",
    "\n",
    "import warnings\n",
    "warnings.filterwarnings('ignore')\n",
    "\n",
    "fsize=20\n",
    "\n",
    "plt.rcParams.update({'font.size': fsize})\n",
    "%config InlineBackend.figure_format = 'retina'"
   ]
  },
  {
   "cell_type": "code",
   "execution_count": 17,
   "metadata": {},
   "outputs": [],
   "source": [
    "age_map = {\n",
    "    \"SRR8426358\": 24,\n",
    "    \"SRR8426359\": 24,\n",
    "    \"SRR8426362\": 24,\n",
    "    \"SRR8426363\": 24,\n",
    "    \"SRR8426364\": 24,\n",
    "    \"SRR8426369\": 24,\n",
    "    \"SRR8426370\": 24,\n",
    "    \"SRR8426360\": 3,\n",
    "    \"SRR8426361\": 3,\n",
    "    \"SRR8426365\": 3,\n",
    "    \"SRR8426366\": 3,\n",
    "    \"SRR8426367\": 3,\n",
    "    \"SRR8426368\": 3,\n",
    "    \"SRR8426371\": 3,\n",
    "    \"SRR8426372\": 3\n",
    "}"
   ]
  },
  {
   "cell_type": "code",
   "execution_count": 2,
   "metadata": {},
   "outputs": [],
   "source": [
    "data = anndata.read_h5ad(\"write/data.h5ad\")"
   ]
  },
  {
   "cell_type": "code",
   "execution_count": 3,
   "metadata": {},
   "outputs": [],
   "source": [
    "df = data.obs.copy()"
   ]
  },
  {
   "cell_type": "code",
   "execution_count": 4,
   "metadata": {},
   "outputs": [],
   "source": [
    "df[\"genes_detected\"] = nd((data.layers[\"raw\"]>0).sum(axis=1))\n",
    "df[\"counts\"] = nd(data.layers[\"raw\"].sum(axis=1))"
   ]
  },
  {
   "cell_type": "code",
   "execution_count": 6,
   "metadata": {},
   "outputs": [],
   "source": [
    "unique = np.unique(df.SRR.values)"
   ]
  },
  {
   "cell_type": "code",
   "execution_count": 7,
   "metadata": {},
   "outputs": [
    {
     "data": {
      "text/plain": [
       "(15,)"
      ]
     },
     "execution_count": 7,
     "metadata": {},
     "output_type": "execute_result"
    }
   ],
   "source": [
    "unique.shape"
   ]
  },
  {
   "cell_type": "code",
   "execution_count": 10,
   "metadata": {},
   "outputs": [],
   "source": [
    "tmp = df.groupby(\"SRR\")[\"genes_detected\", \"counts\"].mean()"
   ]
  },
  {
   "cell_type": "code",
   "execution_count": 19,
   "metadata": {},
   "outputs": [],
   "source": [
    "tmp[\"age\"] = tmp.index.map(age_map)"
   ]
  },
  {
   "cell_type": "code",
   "execution_count": 20,
   "metadata": {},
   "outputs": [
    {
     "data": {
      "text/html": [
       "<div>\n",
       "<style scoped>\n",
       "    .dataframe tbody tr th:only-of-type {\n",
       "        vertical-align: middle;\n",
       "    }\n",
       "\n",
       "    .dataframe tbody tr th {\n",
       "        vertical-align: top;\n",
       "    }\n",
       "\n",
       "    .dataframe thead th {\n",
       "        text-align: right;\n",
       "    }\n",
       "</style>\n",
       "<table border=\"1\" class=\"dataframe\">\n",
       "  <thead>\n",
       "    <tr style=\"text-align: right;\">\n",
       "      <th></th>\n",
       "      <th>genes_detected</th>\n",
       "      <th>counts</th>\n",
       "      <th>age</th>\n",
       "    </tr>\n",
       "    <tr>\n",
       "      <th>SRR</th>\n",
       "      <th></th>\n",
       "      <th></th>\n",
       "      <th></th>\n",
       "    </tr>\n",
       "  </thead>\n",
       "  <tbody>\n",
       "    <tr>\n",
       "      <th>SRR8426368</th>\n",
       "      <td>407.081949</td>\n",
       "      <td>857.377258</td>\n",
       "      <td>3</td>\n",
       "    </tr>\n",
       "    <tr>\n",
       "      <th>SRR8426359</th>\n",
       "      <td>273.433382</td>\n",
       "      <td>436.359436</td>\n",
       "      <td>24</td>\n",
       "    </tr>\n",
       "    <tr>\n",
       "      <th>SRR8426362</th>\n",
       "      <td>441.278708</td>\n",
       "      <td>842.802246</td>\n",
       "      <td>24</td>\n",
       "    </tr>\n",
       "    <tr>\n",
       "      <th>SRR8426364</th>\n",
       "      <td>651.738095</td>\n",
       "      <td>1315.289185</td>\n",
       "      <td>24</td>\n",
       "    </tr>\n",
       "    <tr>\n",
       "      <th>SRR8426369</th>\n",
       "      <td>489.141066</td>\n",
       "      <td>1017.494507</td>\n",
       "      <td>24</td>\n",
       "    </tr>\n",
       "    <tr>\n",
       "      <th>SRR8426360</th>\n",
       "      <td>276.366721</td>\n",
       "      <td>512.881226</td>\n",
       "      <td>3</td>\n",
       "    </tr>\n",
       "    <tr>\n",
       "      <th>SRR8426370</th>\n",
       "      <td>397.748031</td>\n",
       "      <td>768.994751</td>\n",
       "      <td>24</td>\n",
       "    </tr>\n",
       "    <tr>\n",
       "      <th>SRR8426366</th>\n",
       "      <td>492.453003</td>\n",
       "      <td>1259.816162</td>\n",
       "      <td>3</td>\n",
       "    </tr>\n",
       "    <tr>\n",
       "      <th>SRR8426367</th>\n",
       "      <td>375.947119</td>\n",
       "      <td>833.642029</td>\n",
       "      <td>3</td>\n",
       "    </tr>\n",
       "    <tr>\n",
       "      <th>SRR8426365</th>\n",
       "      <td>451.322145</td>\n",
       "      <td>929.971069</td>\n",
       "      <td>3</td>\n",
       "    </tr>\n",
       "    <tr>\n",
       "      <th>SRR8426371</th>\n",
       "      <td>268.151685</td>\n",
       "      <td>496.156982</td>\n",
       "      <td>3</td>\n",
       "    </tr>\n",
       "    <tr>\n",
       "      <th>SRR8426358</th>\n",
       "      <td>236.043277</td>\n",
       "      <td>404.625183</td>\n",
       "      <td>24</td>\n",
       "    </tr>\n",
       "    <tr>\n",
       "      <th>SRR8426361</th>\n",
       "      <td>283.014764</td>\n",
       "      <td>593.157471</td>\n",
       "      <td>3</td>\n",
       "    </tr>\n",
       "    <tr>\n",
       "      <th>SRR8426372</th>\n",
       "      <td>239.111339</td>\n",
       "      <td>493.739075</td>\n",
       "      <td>3</td>\n",
       "    </tr>\n",
       "    <tr>\n",
       "      <th>SRR8426363</th>\n",
       "      <td>185.379128</td>\n",
       "      <td>328.667999</td>\n",
       "      <td>24</td>\n",
       "    </tr>\n",
       "  </tbody>\n",
       "</table>\n",
       "</div>"
      ],
      "text/plain": [
       "            genes_detected       counts  age\n",
       "SRR                                         \n",
       "SRR8426368      407.081949   857.377258    3\n",
       "SRR8426359      273.433382   436.359436   24\n",
       "SRR8426362      441.278708   842.802246   24\n",
       "SRR8426364      651.738095  1315.289185   24\n",
       "SRR8426369      489.141066  1017.494507   24\n",
       "SRR8426360      276.366721   512.881226    3\n",
       "SRR8426370      397.748031   768.994751   24\n",
       "SRR8426366      492.453003  1259.816162    3\n",
       "SRR8426367      375.947119   833.642029    3\n",
       "SRR8426365      451.322145   929.971069    3\n",
       "SRR8426371      268.151685   496.156982    3\n",
       "SRR8426358      236.043277   404.625183   24\n",
       "SRR8426361      283.014764   593.157471    3\n",
       "SRR8426372      239.111339   493.739075    3\n",
       "SRR8426363      185.379128   328.667999   24"
      ]
     },
     "execution_count": 20,
     "metadata": {},
     "output_type": "execute_result"
    }
   ],
   "source": [
    "tmp"
   ]
  },
  {
   "cell_type": "code",
   "execution_count": 28,
   "metadata": {},
   "outputs": [
    {
     "data": {
      "image/png": "[encoded data removed]",
      "text/plain": [
       "<Figure size 360x360 with 1 Axes>"
      ]
     },
     "metadata": {
      "image/png": {
       "height": 337,
       "width": 368
      },
      "needs_background": "light"
     },
     "output_type": "display_data"
    }
   ],
   "source": [
    "fig, ax = plt.subplots(figsize=(5,5))\n",
    "\n",
    "x = tmp.counts.values\n",
    "y = tmp.genes_detected.values\n",
    "\n",
    "ym = tmp.age.values == 3\n",
    "om = tmp.age.values == 24\n",
    "\n",
    "ax.scatter(x[ym],y[ym], color=\"#D43F3A\", label=\"3 month\")\n",
    "ax.scatter(x[om],y[om], color='#1f77b4', label=\"24 month\")\n",
    "\n",
    "\n",
    "ax.set_ylim(0)\n",
    "ax.set_xlim(0)\n",
    "yex(ax)\n",
    "\n",
    "ax.legend()\n",
    "\n",
    "ax.set_ylabel(\"Average genes detected\")\n",
    "ax.set_xlabel(\"Average UMI counts\")\n",
    "\n",
    "plt.savefig(\"./figs/sampling_rate.png\", bbox_inches='tight',dpi=300)\n",
    "\n",
    "plt.show()"
   ]
  },
  {
   "cell_type": "code",
   "execution_count": 26,
   "metadata": {},
   "outputs": [
    {
     "name": "stdout",
     "output_type": "stream",
     "text": [
      "349.1810906682289\n",
      "382.1088124528228\n"
     ]
    }
   ],
   "source": [
    "print(y[ym].mean())\n",
    "print(y[om].mean())"
   ]
  }
 ],
 "metadata": {
  "kernelspec": {
   "display_name": "Python 3",
   "language": "python",
   "name": "python3"
  },
  "language_info": {
   "codemirror_mode": {
    "name": "ipython",
    "version": 3
   },
   "file_extension": ".py",
   "mimetype": "text/x-python",
   "name": "python",
   "nbconvert_exporter": "python",
   "pygments_lexer": "ipython3",
   "version": "3.7.4"
  }
 },
 "nbformat": 4,
 "nbformat_minor": 4
}
