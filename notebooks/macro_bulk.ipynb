{
 "cells": [
  {
   "cell_type": "code",
   "execution_count": 1,
   "metadata": {},
   "outputs": [
    {
     "name": "stderr",
     "output_type": "stream",
     "text": [
      "/home/sina/bin/miniconda3/lib/python3.7/site-packages/anndata/_core/anndata.py:21: FutureWarning: pandas.core.index is deprecated and will be removed in a future version.  The public classes are available in the top-level namespace.\n",
      "  from pandas.core.index import RangeIndex\n"
     ]
    }
   ],
   "source": [
    "# Setup\n",
    "\n",
    "import anndata\n",
    "import pandas as pd\n",
    "import numpy as np\n",
    "import matplotlib.pyplot as plt\n",
    "import matplotlib as mpl\n",
    "import matplotlib.patches as mpatches\n",
    "import scanpy as sc\n",
    "import glob\n",
    "from scipy import stats\n",
    "\n",
    "from collections import OrderedDict\n",
    "from sklearn.decomposition import TruncatedSVD\n",
    "from sklearn.manifold import TSNE\n",
    "from sklearn.preprocessing import scale\n",
    "\n",
    "from sklearn.cluster import KMeans\n",
    "from sklearn.preprocessing import normalize\n",
    "from sklearn.preprocessing import LabelEncoder\n",
    "from sklearn.neighbors import NeighborhoodComponentsAnalysis\n",
    "from matplotlib import cm\n",
    "from matplotlib.lines import Line2D\n",
    "\n",
    "def nd(arr):\n",
    "    return np.asarray(arr).reshape(-1)\n",
    "def yex(ax):\n",
    "    lims = [np.min([ax.get_xlim(), ax.get_ylim()]),\n",
    "            np.max([ax.get_xlim(), ax.get_ylim()])]\n",
    "\n",
    "    # now plot both limits against eachother\n",
    "    ax.plot(lims, lims, 'k-', alpha=0.75, zorder=0)\n",
    "    ax.set_aspect('equal')\n",
    "    ax.set_xlim(lims)\n",
    "    ax.set_ylim(lims)\n",
    "    return ax\n",
    "\n",
    "def trim_axs(axs, N):\n",
    "    \"\"\"little helper to massage the axs list to have correct length...\"\"\"\n",
    "    axs = axs.flat\n",
    "    for ax in axs[N:]:\n",
    "        ax.remove()\n",
    "    return axs[:N]\n",
    "\n",
    "import warnings\n",
    "warnings.filterwarnings('ignore')\n",
    "\n",
    "fsize=20\n",
    "\n",
    "plt.rcParams.update({'font.size': fsize})\n",
    "%config InlineBackend.figure_format = 'retina'"
   ]
  },
  {
   "cell_type": "code",
   "execution_count": 2,
   "metadata": {},
   "outputs": [],
   "source": [
    "files = glob.glob(\"/home/sina/projects/mouse_lung/*_macro_bulk/out/abundance.tsv\")"
   ]
  },
  {
   "cell_type": "code",
   "execution_count": 3,
   "metadata": {},
   "outputs": [],
   "source": [
    "cols = [\"target_id\",\"length\",\"eff_length\",\"est_counts\",\"tpm\",\"SRR\"]"
   ]
  },
  {
   "cell_type": "code",
   "execution_count": 4,
   "metadata": {},
   "outputs": [],
   "source": [
    "age_map = {\n",
    "    \"SRR8426385\":3,\n",
    "    \"SRR8426386\":22,\n",
    "    \"SRR8426387\":22,\n",
    "    \"SRR8426388\":3,\n",
    "    \"SRR8426389\":22,\n",
    "    \"SRR8426390\":3,\n",
    "    \"SRR8426391\":22,\n",
    "    \"SRR8426392\":22,\n",
    "    \"SRR8426393\":3,\n",
    "    \"SRR8426394\":22,\n",
    "    \"SRR8426396\":3,\n",
    "    \"SRR8426398\":22,\n",
    "}"
   ]
  },
  {
   "cell_type": "code",
   "execution_count": 5,
   "metadata": {},
   "outputs": [],
   "source": [
    "t2g = pd.read_csv(\"../reference/t2g.txt\", header=None, names=[\"tid\", \"gene_id\", \"gene_name\"], sep=\"\\t\")\n",
    "t2g.index = t2g.tid\n",
    "t2g = t2g.loc[~t2g.index.duplicated(keep='first')]"
   ]
  },
  {
   "cell_type": "code",
   "execution_count": 6,
   "metadata": {},
   "outputs": [
    {
     "name": "stdout",
     "output_type": "stream",
     "text": [
      "CPU times: user 1.72 s, sys: 199 ms, total: 1.92 s\n",
      "Wall time: 1.92 s\n"
     ]
    }
   ],
   "source": [
    "%%time\n",
    "data = []\n",
    "for fn, f in enumerate(files):\n",
    "    tmp = pd.read_csv(f, sep=\"\\t\")\n",
    "    tmp[\"SRR\"] = f.split(\"/\")[-3].split(\"_\")[0]\n",
    "    tmp[\"age\"] = tmp[\"SRR\"].map(age_map)\n",
    "    tmp[\"gene_name\"] = tmp[\"target_id\"].map(t2g[\"gene_name\"])\n",
    "    data.append(tmp)"
   ]
  },
  {
   "cell_type": "code",
   "execution_count": 7,
   "metadata": {},
   "outputs": [],
   "source": [
    "df = pd.concat(data, ignore_index=True)"
   ]
  },
  {
   "cell_type": "code",
   "execution_count": 8,
   "metadata": {},
   "outputs": [],
   "source": [
    "df.to_csv(\"write/macro_bulk.csv\")"
   ]
  },
  {
   "cell_type": "code",
   "execution_count": 9,
   "metadata": {},
   "outputs": [
    {
     "data": {
      "text/html": [
       "<div>\n",
       "<style scoped>\n",
       "    .dataframe tbody tr th:only-of-type {\n",
       "        vertical-align: middle;\n",
       "    }\n",
       "\n",
       "    .dataframe tbody tr th {\n",
       "        vertical-align: top;\n",
       "    }\n",
       "\n",
       "    .dataframe thead th {\n",
       "        text-align: right;\n",
       "    }\n",
       "</style>\n",
       "<table border=\"1\" class=\"dataframe\">\n",
       "  <thead>\n",
       "    <tr style=\"text-align: right;\">\n",
       "      <th></th>\n",
       "      <th>target_id</th>\n",
       "      <th>length</th>\n",
       "      <th>eff_length</th>\n",
       "      <th>est_counts</th>\n",
       "      <th>tpm</th>\n",
       "      <th>SRR</th>\n",
       "      <th>age</th>\n",
       "      <th>gene_name</th>\n",
       "    </tr>\n",
       "  </thead>\n",
       "  <tbody>\n",
       "    <tr>\n",
       "      <th>0</th>\n",
       "      <td>ENSMUST00000000266.8</td>\n",
       "      <td>1697</td>\n",
       "      <td>1454.9400</td>\n",
       "      <td>14.0000</td>\n",
       "      <td>1.249930</td>\n",
       "      <td>SRR8426398</td>\n",
       "      <td>22</td>\n",
       "      <td>Ifi202b</td>\n",
       "    </tr>\n",
       "    <tr>\n",
       "      <th>1</th>\n",
       "      <td>ENSMUST00000000514.10</td>\n",
       "      <td>3001</td>\n",
       "      <td>2758.9400</td>\n",
       "      <td>0.0000</td>\n",
       "      <td>0.000000</td>\n",
       "      <td>SRR8426398</td>\n",
       "      <td>22</td>\n",
       "      <td>Serpinb8</td>\n",
       "    </tr>\n",
       "    <tr>\n",
       "      <th>2</th>\n",
       "      <td>ENSMUST00000000834.3</td>\n",
       "      <td>1937</td>\n",
       "      <td>1694.9400</td>\n",
       "      <td>1.0000</td>\n",
       "      <td>0.076639</td>\n",
       "      <td>SRR8426398</td>\n",
       "      <td>22</td>\n",
       "      <td>Fasl</td>\n",
       "    </tr>\n",
       "    <tr>\n",
       "      <th>3</th>\n",
       "      <td>ENSMUST00000001027.6</td>\n",
       "      <td>4423</td>\n",
       "      <td>4180.9400</td>\n",
       "      <td>24.5838</td>\n",
       "      <td>0.763797</td>\n",
       "      <td>SRR8426398</td>\n",
       "      <td>22</td>\n",
       "      <td>Aox1</td>\n",
       "    </tr>\n",
       "    <tr>\n",
       "      <th>4</th>\n",
       "      <td>ENSMUST00000001166.13</td>\n",
       "      <td>5193</td>\n",
       "      <td>4950.9400</td>\n",
       "      <td>10.9770</td>\n",
       "      <td>0.288006</td>\n",
       "      <td>SRR8426398</td>\n",
       "      <td>22</td>\n",
       "      <td>Cnnm3</td>\n",
       "    </tr>\n",
       "    <tr>\n",
       "      <th>...</th>\n",
       "      <td>...</td>\n",
       "      <td>...</td>\n",
       "      <td>...</td>\n",
       "      <td>...</td>\n",
       "      <td>...</td>\n",
       "      <td>...</td>\n",
       "      <td>...</td>\n",
       "      <td>...</td>\n",
       "    </tr>\n",
       "    <tr>\n",
       "      <th>1709347</th>\n",
       "      <td>ENSMUST00000238742.1</td>\n",
       "      <td>255</td>\n",
       "      <td>92.6481</td>\n",
       "      <td>0.0000</td>\n",
       "      <td>0.000000</td>\n",
       "      <td>SRR8426387</td>\n",
       "      <td>22</td>\n",
       "      <td>AC196443.1</td>\n",
       "    </tr>\n",
       "    <tr>\n",
       "      <th>1709348</th>\n",
       "      <td>ENSMUST00000238758.1</td>\n",
       "      <td>1272</td>\n",
       "      <td>1051.3000</td>\n",
       "      <td>28.6490</td>\n",
       "      <td>2.316360</td>\n",
       "      <td>SRR8426387</td>\n",
       "      <td>22</td>\n",
       "      <td>Gm47283</td>\n",
       "    </tr>\n",
       "    <tr>\n",
       "      <th>1709349</th>\n",
       "      <td>ENSMUST00000238760.1</td>\n",
       "      <td>543</td>\n",
       "      <td>324.7600</td>\n",
       "      <td>0.0000</td>\n",
       "      <td>0.000000</td>\n",
       "      <td>SRR8426387</td>\n",
       "      <td>22</td>\n",
       "      <td>AC147627.1</td>\n",
       "    </tr>\n",
       "    <tr>\n",
       "      <th>1709350</th>\n",
       "      <td>ENSMUST00000238762.1</td>\n",
       "      <td>358</td>\n",
       "      <td>157.8170</td>\n",
       "      <td>0.0000</td>\n",
       "      <td>0.000000</td>\n",
       "      <td>SRR8426387</td>\n",
       "      <td>22</td>\n",
       "      <td>AC196443.1</td>\n",
       "    </tr>\n",
       "    <tr>\n",
       "      <th>1709351</th>\n",
       "      <td>ENSMUST00000238766.1</td>\n",
       "      <td>568</td>\n",
       "      <td>349.2410</td>\n",
       "      <td>0.0000</td>\n",
       "      <td>0.000000</td>\n",
       "      <td>SRR8426387</td>\n",
       "      <td>22</td>\n",
       "      <td>AC196443.1</td>\n",
       "    </tr>\n",
       "  </tbody>\n",
       "</table>\n",
       "<p>1709352 rows × 8 columns</p>\n",
       "</div>"
      ],
      "text/plain": [
       "                     target_id  length  eff_length  est_counts       tpm  \\\n",
       "0         ENSMUST00000000266.8    1697   1454.9400     14.0000  1.249930   \n",
       "1        ENSMUST00000000514.10    3001   2758.9400      0.0000  0.000000   \n",
       "2         ENSMUST00000000834.3    1937   1694.9400      1.0000  0.076639   \n",
       "3         ENSMUST00000001027.6    4423   4180.9400     24.5838  0.763797   \n",
       "4        ENSMUST00000001166.13    5193   4950.9400     10.9770  0.288006   \n",
       "...                        ...     ...         ...         ...       ...   \n",
       "1709347   ENSMUST00000238742.1     255     92.6481      0.0000  0.000000   \n",
       "1709348   ENSMUST00000238758.1    1272   1051.3000     28.6490  2.316360   \n",
       "1709349   ENSMUST00000238760.1     543    324.7600      0.0000  0.000000   \n",
       "1709350   ENSMUST00000238762.1     358    157.8170      0.0000  0.000000   \n",
       "1709351   ENSMUST00000238766.1     568    349.2410      0.0000  0.000000   \n",
       "\n",
       "                SRR  age   gene_name  \n",
       "0        SRR8426398   22     Ifi202b  \n",
       "1        SRR8426398   22    Serpinb8  \n",
       "2        SRR8426398   22        Fasl  \n",
       "3        SRR8426398   22        Aox1  \n",
       "4        SRR8426398   22       Cnnm3  \n",
       "...             ...  ...         ...  \n",
       "1709347  SRR8426387   22  AC196443.1  \n",
       "1709348  SRR8426387   22     Gm47283  \n",
       "1709349  SRR8426387   22  AC147627.1  \n",
       "1709350  SRR8426387   22  AC196443.1  \n",
       "1709351  SRR8426387   22  AC196443.1  \n",
       "\n",
       "[1709352 rows x 8 columns]"
      ]
     },
     "execution_count": 9,
     "metadata": {},
     "output_type": "execute_result"
    }
   ],
   "source": [
    "df"
   ]
  },
  {
   "cell_type": "code",
   "execution_count": null,
   "metadata": {},
   "outputs": [],
   "source": []
  },
  {
   "cell_type": "markdown",
   "metadata": {},
   "source": [
    "# ACE2"
   ]
  },
  {
   "cell_type": "code",
   "execution_count": 38,
   "metadata": {},
   "outputs": [],
   "source": [
    "ace2 = df[df[\"gene_name\"] == \"Ace2\"]"
   ]
  },
  {
   "cell_type": "code",
   "execution_count": 39,
   "metadata": {},
   "outputs": [],
   "source": [
    "tmp = pd.DataFrame(ace2.groupby([\"SRR\", \"gene_name\"])[\"tpm\"].sum()).reset_index()\n",
    "tmp[\"age\"] = tmp.SRR.map(age_map)"
   ]
  },
  {
   "cell_type": "code",
   "execution_count": 40,
   "metadata": {},
   "outputs": [
    {
     "data": {
      "text/html": [
       "<div>\n",
       "<style scoped>\n",
       "    .dataframe tbody tr th:only-of-type {\n",
       "        vertical-align: middle;\n",
       "    }\n",
       "\n",
       "    .dataframe tbody tr th {\n",
       "        vertical-align: top;\n",
       "    }\n",
       "\n",
       "    .dataframe thead th {\n",
       "        text-align: right;\n",
       "    }\n",
       "</style>\n",
       "<table border=\"1\" class=\"dataframe\">\n",
       "  <thead>\n",
       "    <tr style=\"text-align: right;\">\n",
       "      <th></th>\n",
       "      <th>SRR</th>\n",
       "      <th>gene_name</th>\n",
       "      <th>tpm</th>\n",
       "      <th>age</th>\n",
       "    </tr>\n",
       "  </thead>\n",
       "  <tbody>\n",
       "    <tr>\n",
       "      <th>0</th>\n",
       "      <td>SRR8426385</td>\n",
       "      <td>Ace2</td>\n",
       "      <td>0.000000</td>\n",
       "      <td>3</td>\n",
       "    </tr>\n",
       "    <tr>\n",
       "      <th>1</th>\n",
       "      <td>SRR8426386</td>\n",
       "      <td>Ace2</td>\n",
       "      <td>0.000000</td>\n",
       "      <td>22</td>\n",
       "    </tr>\n",
       "    <tr>\n",
       "      <th>2</th>\n",
       "      <td>SRR8426387</td>\n",
       "      <td>Ace2</td>\n",
       "      <td>0.000000</td>\n",
       "      <td>22</td>\n",
       "    </tr>\n",
       "    <tr>\n",
       "      <th>3</th>\n",
       "      <td>SRR8426388</td>\n",
       "      <td>Ace2</td>\n",
       "      <td>0.000000</td>\n",
       "      <td>3</td>\n",
       "    </tr>\n",
       "    <tr>\n",
       "      <th>4</th>\n",
       "      <td>SRR8426389</td>\n",
       "      <td>Ace2</td>\n",
       "      <td>0.176228</td>\n",
       "      <td>22</td>\n",
       "    </tr>\n",
       "    <tr>\n",
       "      <th>5</th>\n",
       "      <td>SRR8426390</td>\n",
       "      <td>Ace2</td>\n",
       "      <td>0.123589</td>\n",
       "      <td>3</td>\n",
       "    </tr>\n",
       "    <tr>\n",
       "      <th>6</th>\n",
       "      <td>SRR8426391</td>\n",
       "      <td>Ace2</td>\n",
       "      <td>0.064086</td>\n",
       "      <td>22</td>\n",
       "    </tr>\n",
       "    <tr>\n",
       "      <th>7</th>\n",
       "      <td>SRR8426392</td>\n",
       "      <td>Ace2</td>\n",
       "      <td>0.000000</td>\n",
       "      <td>22</td>\n",
       "    </tr>\n",
       "    <tr>\n",
       "      <th>8</th>\n",
       "      <td>SRR8426393</td>\n",
       "      <td>Ace2</td>\n",
       "      <td>0.575726</td>\n",
       "      <td>3</td>\n",
       "    </tr>\n",
       "    <tr>\n",
       "      <th>9</th>\n",
       "      <td>SRR8426394</td>\n",
       "      <td>Ace2</td>\n",
       "      <td>0.247698</td>\n",
       "      <td>22</td>\n",
       "    </tr>\n",
       "    <tr>\n",
       "      <th>10</th>\n",
       "      <td>SRR8426396</td>\n",
       "      <td>Ace2</td>\n",
       "      <td>1.446930</td>\n",
       "      <td>3</td>\n",
       "    </tr>\n",
       "    <tr>\n",
       "      <th>11</th>\n",
       "      <td>SRR8426398</td>\n",
       "      <td>Ace2</td>\n",
       "      <td>0.629694</td>\n",
       "      <td>22</td>\n",
       "    </tr>\n",
       "  </tbody>\n",
       "</table>\n",
       "</div>"
      ],
      "text/plain": [
       "           SRR gene_name       tpm  age\n",
       "0   SRR8426385      Ace2  0.000000    3\n",
       "1   SRR8426386      Ace2  0.000000   22\n",
       "2   SRR8426387      Ace2  0.000000   22\n",
       "3   SRR8426388      Ace2  0.000000    3\n",
       "4   SRR8426389      Ace2  0.176228   22\n",
       "5   SRR8426390      Ace2  0.123589    3\n",
       "6   SRR8426391      Ace2  0.064086   22\n",
       "7   SRR8426392      Ace2  0.000000   22\n",
       "8   SRR8426393      Ace2  0.575726    3\n",
       "9   SRR8426394      Ace2  0.247698   22\n",
       "10  SRR8426396      Ace2  1.446930    3\n",
       "11  SRR8426398      Ace2  0.629694   22"
      ]
     },
     "execution_count": 40,
     "metadata": {},
     "output_type": "execute_result"
    }
   ],
   "source": [
    "tmp"
   ]
  },
  {
   "cell_type": "code",
   "execution_count": 41,
   "metadata": {},
   "outputs": [],
   "source": [
    "young = tmp[tmp.age==3]['tpm'].values\n",
    "old = tmp[tmp.age==22]['tpm'].values\n",
    "stat, p = stats.ttest_ind(young, old)"
   ]
  },
  {
   "cell_type": "code",
   "execution_count": 42,
   "metadata": {},
   "outputs": [
    {
     "data": {
      "image/png": "[encoded data removed]",
      "text/plain": [
       "<Figure size 504x504 with 1 Axes>"
      ]
     },
     "metadata": {
      "image/png": {
       "height": 421,
       "width": 469
      },
      "needs_background": "light"
     },
     "output_type": "display_data"
    }
   ],
   "source": [
    "fig, ax = plt.subplots(figsize=(7,7))\n",
    "\n",
    "gene = \"ACE2\"\n",
    "\n",
    "labels = ['3 month', \"22 month\"]\n",
    "lidx = [1, 2]\n",
    "\n",
    "\n",
    "x = [young, old]\n",
    "\n",
    "parts = ax.violinplot(x, showmedians=False, showextrema=False)\n",
    "for pcidx, pc in enumerate(parts['bodies']):\n",
    "    pc.set_facecolor('#D43F3A')\n",
    "    if pcidx==1: pc.set_facecolor('#1f77b4')\n",
    "    pc.set_edgecolor('black')\n",
    "    pc.set_alpha(1)\n",
    "\n",
    "    \n",
    "mean = [np.mean(i) for i in x]\n",
    "ax.scatter(lidx, mean, marker='o', color='white', s=30, zorder=3)\n",
    "\n",
    "\n",
    "######## Add some random \"jitter\" to the x-axis\n",
    "x = np.random.normal(1, 0.04, size=len(young))\n",
    "ax.scatter(x, young, alpha=1, color=\"k\")\n",
    "\n",
    "x = np.random.normal(2, 0.04, size=len(old))\n",
    "ax.scatter(x, old, alpha=1, color=\"k\")\n",
    "\n",
    "##########\n",
    "ax.set_xticks(lidx)\n",
    "ax.set_xticklabels(labels)\n",
    "\n",
    "\n",
    "\n",
    "ax.annotate(\"p={:,.4f}\".format(p), (1.5, ax.get_ylim()[1]*0.02), ha=\"center\")\n",
    "\n",
    "ax.set_ylim(-0.1)\n",
    "\n",
    "ax.set_ylabel(\"Macrophage bulk $ACE2$ TPM\")\n",
    "plt.savefig(\"./figs/macro_bulk_ace2.png\", bbox_inches='tight',dpi=300)\n",
    "\n",
    "plt.show()"
   ]
  },
  {
   "cell_type": "code",
   "execution_count": 43,
   "metadata": {},
   "outputs": [
    {
     "data": {
      "text/plain": [
       "2.68831224952606"
      ]
     },
     "execution_count": 43,
     "metadata": {},
     "output_type": "execute_result"
    }
   ],
   "source": [
    "young.mean()/old.mean()"
   ]
  },
  {
   "cell_type": "markdown",
   "metadata": {},
   "source": [
    "# TMPRS22"
   ]
  },
  {
   "cell_type": "code",
   "execution_count": 44,
   "metadata": {},
   "outputs": [],
   "source": [
    "tmprss2 = df[df[\"gene_name\"] == \"Tmprss2\"]"
   ]
  },
  {
   "cell_type": "code",
   "execution_count": 45,
   "metadata": {},
   "outputs": [],
   "source": [
    "tmp = pd.DataFrame(tmprss2.groupby([\"SRR\", \"gene_name\"])[\"tpm\"].sum()).reset_index()\n",
    "tmp[\"age\"] = tmp.SRR.map(age_map)"
   ]
  },
  {
   "cell_type": "code",
   "execution_count": 46,
   "metadata": {},
   "outputs": [
    {
     "data": {
      "text/html": [
       "<div>\n",
       "<style scoped>\n",
       "    .dataframe tbody tr th:only-of-type {\n",
       "        vertical-align: middle;\n",
       "    }\n",
       "\n",
       "    .dataframe tbody tr th {\n",
       "        vertical-align: top;\n",
       "    }\n",
       "\n",
       "    .dataframe thead th {\n",
       "        text-align: right;\n",
       "    }\n",
       "</style>\n",
       "<table border=\"1\" class=\"dataframe\">\n",
       "  <thead>\n",
       "    <tr style=\"text-align: right;\">\n",
       "      <th></th>\n",
       "      <th>SRR</th>\n",
       "      <th>gene_name</th>\n",
       "      <th>tpm</th>\n",
       "      <th>age</th>\n",
       "    </tr>\n",
       "  </thead>\n",
       "  <tbody>\n",
       "    <tr>\n",
       "      <th>0</th>\n",
       "      <td>SRR8426385</td>\n",
       "      <td>Tmprss2</td>\n",
       "      <td>0.021977</td>\n",
       "      <td>3</td>\n",
       "    </tr>\n",
       "    <tr>\n",
       "      <th>1</th>\n",
       "      <td>SRR8426386</td>\n",
       "      <td>Tmprss2</td>\n",
       "      <td>0.029096</td>\n",
       "      <td>22</td>\n",
       "    </tr>\n",
       "    <tr>\n",
       "      <th>2</th>\n",
       "      <td>SRR8426387</td>\n",
       "      <td>Tmprss2</td>\n",
       "      <td>0.000000</td>\n",
       "      <td>22</td>\n",
       "    </tr>\n",
       "    <tr>\n",
       "      <th>3</th>\n",
       "      <td>SRR8426388</td>\n",
       "      <td>Tmprss2</td>\n",
       "      <td>0.160102</td>\n",
       "      <td>3</td>\n",
       "    </tr>\n",
       "    <tr>\n",
       "      <th>4</th>\n",
       "      <td>SRR8426389</td>\n",
       "      <td>Tmprss2</td>\n",
       "      <td>0.193256</td>\n",
       "      <td>22</td>\n",
       "    </tr>\n",
       "    <tr>\n",
       "      <th>5</th>\n",
       "      <td>SRR8426390</td>\n",
       "      <td>Tmprss2</td>\n",
       "      <td>0.251915</td>\n",
       "      <td>3</td>\n",
       "    </tr>\n",
       "    <tr>\n",
       "      <th>6</th>\n",
       "      <td>SRR8426391</td>\n",
       "      <td>Tmprss2</td>\n",
       "      <td>0.000000</td>\n",
       "      <td>22</td>\n",
       "    </tr>\n",
       "    <tr>\n",
       "      <th>7</th>\n",
       "      <td>SRR8426392</td>\n",
       "      <td>Tmprss2</td>\n",
       "      <td>0.000000</td>\n",
       "      <td>22</td>\n",
       "    </tr>\n",
       "    <tr>\n",
       "      <th>8</th>\n",
       "      <td>SRR8426393</td>\n",
       "      <td>Tmprss2</td>\n",
       "      <td>1.738378</td>\n",
       "      <td>3</td>\n",
       "    </tr>\n",
       "    <tr>\n",
       "      <th>9</th>\n",
       "      <td>SRR8426394</td>\n",
       "      <td>Tmprss2</td>\n",
       "      <td>0.422120</td>\n",
       "      <td>22</td>\n",
       "    </tr>\n",
       "    <tr>\n",
       "      <th>10</th>\n",
       "      <td>SRR8426396</td>\n",
       "      <td>Tmprss2</td>\n",
       "      <td>1.349676</td>\n",
       "      <td>3</td>\n",
       "    </tr>\n",
       "    <tr>\n",
       "      <th>11</th>\n",
       "      <td>SRR8426398</td>\n",
       "      <td>Tmprss2</td>\n",
       "      <td>3.778701</td>\n",
       "      <td>22</td>\n",
       "    </tr>\n",
       "  </tbody>\n",
       "</table>\n",
       "</div>"
      ],
      "text/plain": [
       "           SRR gene_name       tpm  age\n",
       "0   SRR8426385   Tmprss2  0.021977    3\n",
       "1   SRR8426386   Tmprss2  0.029096   22\n",
       "2   SRR8426387   Tmprss2  0.000000   22\n",
       "3   SRR8426388   Tmprss2  0.160102    3\n",
       "4   SRR8426389   Tmprss2  0.193256   22\n",
       "5   SRR8426390   Tmprss2  0.251915    3\n",
       "6   SRR8426391   Tmprss2  0.000000   22\n",
       "7   SRR8426392   Tmprss2  0.000000   22\n",
       "8   SRR8426393   Tmprss2  1.738378    3\n",
       "9   SRR8426394   Tmprss2  0.422120   22\n",
       "10  SRR8426396   Tmprss2  1.349676    3\n",
       "11  SRR8426398   Tmprss2  3.778701   22"
      ]
     },
     "execution_count": 46,
     "metadata": {},
     "output_type": "execute_result"
    }
   ],
   "source": [
    "tmp"
   ]
  },
  {
   "cell_type": "code",
   "execution_count": 47,
   "metadata": {},
   "outputs": [
    {
     "data": {
      "text/plain": [
       "age\n",
       "3     0.704409\n",
       "22    0.631882\n",
       "Name: tpm, dtype: float64"
      ]
     },
     "execution_count": 47,
     "metadata": {},
     "output_type": "execute_result"
    }
   ],
   "source": [
    "tmp.groupby(\"age\")[\"tpm\"].mean()"
   ]
  },
  {
   "cell_type": "code",
   "execution_count": null,
   "metadata": {},
   "outputs": [],
   "source": []
  },
  {
   "cell_type": "code",
   "execution_count": 48,
   "metadata": {},
   "outputs": [],
   "source": [
    "young = tmp[tmp.age==3]['tpm'].values\n",
    "old = tmp[tmp.age==22]['tpm'].values\n",
    "stat, p = stats.ttest_ind(young, old)"
   ]
  },
  {
   "cell_type": "code",
   "execution_count": 49,
   "metadata": {},
   "outputs": [
    {
     "data": {
      "image/png": "[encoded data removed]",
      "text/plain": [
       "<Figure size 504x504 with 1 Axes>"
      ]
     },
     "metadata": {
      "image/png": {
       "height": 421,
       "width": 469
      },
      "needs_background": "light"
     },
     "output_type": "display_data"
    }
   ],
   "source": [
    "fig, ax = plt.subplots(figsize=(7,7))\n",
    "\n",
    "gene = \"ACE2\"\n",
    "\n",
    "labels = ['3 month', \"22 month\"]\n",
    "lidx = [1, 2]\n",
    "\n",
    "\n",
    "x = [young, old]\n",
    "\n",
    "parts = ax.violinplot(x, showmedians=False, showextrema=False)\n",
    "for pcidx, pc in enumerate(parts['bodies']):\n",
    "    pc.set_facecolor('#D43F3A')\n",
    "    if pcidx==1: pc.set_facecolor('#1f77b4')\n",
    "    pc.set_edgecolor('black')\n",
    "    pc.set_alpha(1)\n",
    "\n",
    "    \n",
    "mean = [np.mean(i) for i in x]\n",
    "ax.scatter(lidx, mean, marker='o', color='white', s=30, zorder=3)\n",
    "\n",
    "\n",
    "######## Add some random \"jitter\" to the x-axis\n",
    "x = np.random.normal(1, 0.04, size=len(young))\n",
    "ax.scatter(x, young, alpha=1, color=\"k\")\n",
    "\n",
    "x = np.random.normal(2, 0.04, size=len(old))\n",
    "ax.scatter(x, old, alpha=1, color=\"k\")\n",
    "\n",
    "##########\n",
    "ax.set_xticks(lidx)\n",
    "ax.set_xticklabels(labels)\n",
    "\n",
    "\n",
    "\n",
    "ax.annotate(\"p={:,.4f}\".format(p), (1.5, ax.get_ylim()[1]*0.02), ha=\"center\")\n",
    "\n",
    "ax.set_ylim(-0.1)\n",
    "\n",
    "ax.set_ylabel(\"Macrophage bulk $TPMRSS2$ TPM\")\n",
    "plt.savefig(\"./figs/macro_bulk_tmprss2.png\", bbox_inches='tight',dpi=300)\n",
    "\n",
    "plt.show()"
   ]
  },
  {
   "cell_type": "code",
   "execution_count": 50,
   "metadata": {},
   "outputs": [
    {
     "data": {
      "text/plain": [
       "1.1147800374550083"
      ]
     },
     "execution_count": 50,
     "metadata": {},
     "output_type": "execute_result"
    }
   ],
   "source": [
    "young.mean()/old.mean()"
   ]
  },
  {
   "cell_type": "code",
   "execution_count": 52,
   "metadata": {},
   "outputs": [
    {
     "data": {
      "text/html": [
       "<div>\n",
       "<style scoped>\n",
       "    .dataframe tbody tr th:only-of-type {\n",
       "        vertical-align: middle;\n",
       "    }\n",
       "\n",
       "    .dataframe tbody tr th {\n",
       "        vertical-align: top;\n",
       "    }\n",
       "\n",
       "    .dataframe thead th {\n",
       "        text-align: right;\n",
       "    }\n",
       "</style>\n",
       "<table border=\"1\" class=\"dataframe\">\n",
       "  <thead>\n",
       "    <tr style=\"text-align: right;\">\n",
       "      <th></th>\n",
       "      <th>SRR</th>\n",
       "      <th>gene_name</th>\n",
       "      <th>tpm</th>\n",
       "      <th>age</th>\n",
       "    </tr>\n",
       "  </thead>\n",
       "  <tbody>\n",
       "    <tr>\n",
       "      <th>0</th>\n",
       "      <td>SRR8426385</td>\n",
       "      <td>Tmprss2</td>\n",
       "      <td>0.021977</td>\n",
       "      <td>3</td>\n",
       "    </tr>\n",
       "    <tr>\n",
       "      <th>3</th>\n",
       "      <td>SRR8426388</td>\n",
       "      <td>Tmprss2</td>\n",
       "      <td>0.160102</td>\n",
       "      <td>3</td>\n",
       "    </tr>\n",
       "    <tr>\n",
       "      <th>5</th>\n",
       "      <td>SRR8426390</td>\n",
       "      <td>Tmprss2</td>\n",
       "      <td>0.251915</td>\n",
       "      <td>3</td>\n",
       "    </tr>\n",
       "    <tr>\n",
       "      <th>8</th>\n",
       "      <td>SRR8426393</td>\n",
       "      <td>Tmprss2</td>\n",
       "      <td>1.738378</td>\n",
       "      <td>3</td>\n",
       "    </tr>\n",
       "    <tr>\n",
       "      <th>10</th>\n",
       "      <td>SRR8426396</td>\n",
       "      <td>Tmprss2</td>\n",
       "      <td>1.349676</td>\n",
       "      <td>3</td>\n",
       "    </tr>\n",
       "    <tr>\n",
       "      <th>1</th>\n",
       "      <td>SRR8426386</td>\n",
       "      <td>Tmprss2</td>\n",
       "      <td>0.029096</td>\n",
       "      <td>22</td>\n",
       "    </tr>\n",
       "    <tr>\n",
       "      <th>2</th>\n",
       "      <td>SRR8426387</td>\n",
       "      <td>Tmprss2</td>\n",
       "      <td>0.000000</td>\n",
       "      <td>22</td>\n",
       "    </tr>\n",
       "    <tr>\n",
       "      <th>4</th>\n",
       "      <td>SRR8426389</td>\n",
       "      <td>Tmprss2</td>\n",
       "      <td>0.193256</td>\n",
       "      <td>22</td>\n",
       "    </tr>\n",
       "    <tr>\n",
       "      <th>6</th>\n",
       "      <td>SRR8426391</td>\n",
       "      <td>Tmprss2</td>\n",
       "      <td>0.000000</td>\n",
       "      <td>22</td>\n",
       "    </tr>\n",
       "    <tr>\n",
       "      <th>7</th>\n",
       "      <td>SRR8426392</td>\n",
       "      <td>Tmprss2</td>\n",
       "      <td>0.000000</td>\n",
       "      <td>22</td>\n",
       "    </tr>\n",
       "    <tr>\n",
       "      <th>9</th>\n",
       "      <td>SRR8426394</td>\n",
       "      <td>Tmprss2</td>\n",
       "      <td>0.422120</td>\n",
       "      <td>22</td>\n",
       "    </tr>\n",
       "    <tr>\n",
       "      <th>11</th>\n",
       "      <td>SRR8426398</td>\n",
       "      <td>Tmprss2</td>\n",
       "      <td>3.778701</td>\n",
       "      <td>22</td>\n",
       "    </tr>\n",
       "  </tbody>\n",
       "</table>\n",
       "</div>"
      ],
      "text/plain": [
       "           SRR gene_name       tpm  age\n",
       "0   SRR8426385   Tmprss2  0.021977    3\n",
       "3   SRR8426388   Tmprss2  0.160102    3\n",
       "5   SRR8426390   Tmprss2  0.251915    3\n",
       "8   SRR8426393   Tmprss2  1.738378    3\n",
       "10  SRR8426396   Tmprss2  1.349676    3\n",
       "1   SRR8426386   Tmprss2  0.029096   22\n",
       "2   SRR8426387   Tmprss2  0.000000   22\n",
       "4   SRR8426389   Tmprss2  0.193256   22\n",
       "6   SRR8426391   Tmprss2  0.000000   22\n",
       "7   SRR8426392   Tmprss2  0.000000   22\n",
       "9   SRR8426394   Tmprss2  0.422120   22\n",
       "11  SRR8426398   Tmprss2  3.778701   22"
      ]
     },
     "execution_count": 52,
     "metadata": {},
     "output_type": "execute_result"
    }
   ],
   "source": [
    "tmp.sort_values(\"age\")"
   ]
  },
  {
   "cell_type": "code",
   "execution_count": null,
   "metadata": {},
   "outputs": [],
   "source": []
  },
  {
   "cell_type": "code",
   "execution_count": null,
   "metadata": {},
   "outputs": [],
   "source": []
  },
  {
   "cell_type": "code",
   "execution_count": null,
   "metadata": {},
   "outputs": [],
   "source": []
  },
  {
   "cell_type": "code",
   "execution_count": null,
   "metadata": {},
   "outputs": [],
   "source": []
  },
  {
   "cell_type": "code",
   "execution_count": null,
   "metadata": {},
   "outputs": [],
   "source": []
  },
  {
   "cell_type": "code",
   "execution_count": null,
   "metadata": {},
   "outputs": [],
   "source": []
  },
  {
   "cell_type": "code",
   "execution_count": null,
   "metadata": {},
   "outputs": [],
   "source": []
  },
  {
   "cell_type": "code",
   "execution_count": null,
   "metadata": {},
   "outputs": [],
   "source": []
  },
  {
   "cell_type": "code",
   "execution_count": null,
   "metadata": {},
   "outputs": [],
   "source": []
  }
 ],
 "metadata": {
  "anaconda-cloud": {},
  "colab": {
   "include_colab_link": true,
   "name": "mouse_lung.ipynb",
   "provenance": [],
   "toc_visible": true
  },
  "kernelspec": {
   "display_name": "Python 3",
   "language": "python",
   "name": "python3"
  },
  "language_info": {
   "codemirror_mode": {
    "name": "ipython",
    "version": 3
   },
   "file_extension": ".py",
   "mimetype": "text/x-python",
   "name": "python",
   "nbconvert_exporter": "python",
   "pygments_lexer": "ipython3",
   "version": "3.7.4"
  }
 },
 "nbformat": 4,
 "nbformat_minor": 4
}
