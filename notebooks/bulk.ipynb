{
 "cells": [
  {
   "cell_type": "markdown",
   "metadata": {},
   "source": [
    "# Bulk whole lung"
   ]
  },
  {
   "cell_type": "code",
   "execution_count": 79,
   "metadata": {},
   "outputs": [],
   "source": [
    "# Setup\n",
    "\n",
    "import anndata\n",
    "import pandas as pd\n",
    "import numpy as np\n",
    "import matplotlib.pyplot as plt\n",
    "import matplotlib as mpl\n",
    "import matplotlib.patches as mpatches\n",
    "import scanpy as sc\n",
    "import glob\n",
    "from scipy import stats\n",
    "\n",
    "from collections import OrderedDict\n",
    "from sklearn.decomposition import TruncatedSVD\n",
    "from sklearn.manifold import TSNE\n",
    "from sklearn.preprocessing import scale\n",
    "\n",
    "from sklearn.cluster import KMeans\n",
    "from sklearn.preprocessing import normalize\n",
    "from sklearn.preprocessing import LabelEncoder\n",
    "from sklearn.neighbors import NeighborhoodComponentsAnalysis\n",
    "from matplotlib import cm\n",
    "from matplotlib.lines import Line2D\n",
    "\n",
    "def nd(arr):\n",
    "    return np.asarray(arr).reshape(-1)\n",
    "def yex(ax):\n",
    "    lims = [np.min([ax.get_xlim(), ax.get_ylim()]),\n",
    "            np.max([ax.get_xlim(), ax.get_ylim()])]\n",
    "\n",
    "    # now plot both limits against eachother\n",
    "    ax.plot(lims, lims, 'k-', alpha=0.75, zorder=0)\n",
    "    ax.set_aspect('equal')\n",
    "    ax.set_xlim(lims)\n",
    "    ax.set_ylim(lims)\n",
    "    return ax\n",
    "\n",
    "def trim_axs(axs, N):\n",
    "    \"\"\"little helper to massage the axs list to have correct length...\"\"\"\n",
    "    axs = axs.flat\n",
    "    for ax in axs[N:]:\n",
    "        ax.remove()\n",
    "    return axs[:N]\n",
    "\n",
    "import warnings\n",
    "warnings.filterwarnings('ignore')\n",
    "\n",
    "fsize=20\n",
    "\n",
    "plt.rcParams.update({'font.size': fsize})\n",
    "%config InlineBackend.figure_format = 'retina'"
   ]
  },
  {
   "cell_type": "code",
   "execution_count": 80,
   "metadata": {},
   "outputs": [],
   "source": [
    "#files = glob.glob(\"/home/sina/projects/mouse_lung/*_bulk/out/abundance.tsv\")\n",
    "files = [\n",
    "    \"/home/sina/projects/mouse_lung/SRR8426373_bulk/out/abundance.tsv\",\n",
    "    \"/home/sina/projects/mouse_lung/SRR8426374_bulk/out/abundance.tsv\",\n",
    "    \"/home/sina/projects/mouse_lung/SRR8426375_bulk/out/abundance.tsv\",\n",
    "    \"/home/sina/projects/mouse_lung/SRR8426376_bulk/out/abundance.tsv\",\n",
    "    \"/home/sina/projects/mouse_lung/SRR8426377_bulk/out/abundance.tsv\",\n",
    "    \"/home/sina/projects/mouse_lung/SRR8426378_bulk/out/abundance.tsv\"\n",
    "]"
   ]
  },
  {
   "cell_type": "code",
   "execution_count": 81,
   "metadata": {},
   "outputs": [
    {
     "data": {
      "text/plain": [
       "['/home/sina/projects/mouse_lung/SRR8426373_bulk/out/abundance.tsv',\n",
       " '/home/sina/projects/mouse_lung/SRR8426374_bulk/out/abundance.tsv',\n",
       " '/home/sina/projects/mouse_lung/SRR8426375_bulk/out/abundance.tsv',\n",
       " '/home/sina/projects/mouse_lung/SRR8426376_bulk/out/abundance.tsv',\n",
       " '/home/sina/projects/mouse_lung/SRR8426377_bulk/out/abundance.tsv',\n",
       " '/home/sina/projects/mouse_lung/SRR8426378_bulk/out/abundance.tsv']"
      ]
     },
     "execution_count": 81,
     "metadata": {},
     "output_type": "execute_result"
    }
   ],
   "source": [
    "files"
   ]
  },
  {
   "cell_type": "code",
   "execution_count": 82,
   "metadata": {},
   "outputs": [],
   "source": [
    "cols = [\"target_id\",\"length\",\"eff_length\",\"est_counts\",\"tpm\",\"SRR\"]"
   ]
  },
  {
   "cell_type": "code",
   "execution_count": 83,
   "metadata": {},
   "outputs": [],
   "source": [
    "age_map =  {\"SRR8426373\": 22,\n",
    "            \"SRR8426374\": 22,\n",
    "            \"SRR8426375\": 22,\n",
    "            \"SRR8426376\": 3,\n",
    "            \"SRR8426377\": 3,\n",
    "            \"SRR8426378\": 3}"
   ]
  },
  {
   "cell_type": "code",
   "execution_count": 84,
   "metadata": {},
   "outputs": [],
   "source": [
    "t2g = pd.read_csv(\"../reference/t2g.txt\", header=None, names=[\"tid\", \"gene_id\", \"gene_name\"], sep=\"\\t\")\n",
    "t2g.index = t2g.tid\n",
    "t2g = t2g.loc[~t2g.index.duplicated(keep='first')]"
   ]
  },
  {
   "cell_type": "code",
   "execution_count": 85,
   "metadata": {},
   "outputs": [
    {
     "name": "stdout",
     "output_type": "stream",
     "text": [
      "CPU times: user 916 ms, sys: 79.8 ms, total: 996 ms\n",
      "Wall time: 993 ms\n"
     ]
    }
   ],
   "source": [
    "%%time\n",
    "data = []\n",
    "for fn, f in enumerate(files):\n",
    "    tmp = pd.read_csv(f, sep=\"\\t\")\n",
    "    tmp[\"SRR\"] = f.split(\"/\")[-3].split(\"_\")[0]\n",
    "    tmp[\"age\"] = tmp[\"SRR\"].map(age_map)\n",
    "    tmp[\"gene_name\"] = tmp[\"target_id\"].map(t2g[\"gene_name\"])\n",
    "    data.append(tmp)"
   ]
  },
  {
   "cell_type": "code",
   "execution_count": 86,
   "metadata": {},
   "outputs": [],
   "source": [
    "df = pd.concat(data, ignore_index=True)"
   ]
  },
  {
   "cell_type": "code",
   "execution_count": 87,
   "metadata": {},
   "outputs": [],
   "source": [
    "df.to_csv(\"write/bulk.csv\")"
   ]
  },
  {
   "cell_type": "markdown",
   "metadata": {},
   "source": [
    "# ACE2"
   ]
  },
  {
   "cell_type": "code",
   "execution_count": 88,
   "metadata": {},
   "outputs": [],
   "source": [
    "ace2 = df[df[\"gene_name\"] == \"Ace2\"]"
   ]
  },
  {
   "cell_type": "code",
   "execution_count": 89,
   "metadata": {},
   "outputs": [],
   "source": [
    "tmp = pd.DataFrame(ace2.groupby([\"SRR\", \"gene_name\"])[\"tpm\"].sum()).reset_index()\n",
    "tmp[\"age\"] = tmp.SRR.map(age_map)"
   ]
  },
  {
   "cell_type": "code",
   "execution_count": 90,
   "metadata": {},
   "outputs": [
    {
     "data": {
      "text/html": [
       "<div>\n",
       "<style scoped>\n",
       "    .dataframe tbody tr th:only-of-type {\n",
       "        vertical-align: middle;\n",
       "    }\n",
       "\n",
       "    .dataframe tbody tr th {\n",
       "        vertical-align: top;\n",
       "    }\n",
       "\n",
       "    .dataframe thead th {\n",
       "        text-align: right;\n",
       "    }\n",
       "</style>\n",
       "<table border=\"1\" class=\"dataframe\">\n",
       "  <thead>\n",
       "    <tr style=\"text-align: right;\">\n",
       "      <th></th>\n",
       "      <th>SRR</th>\n",
       "      <th>gene_name</th>\n",
       "      <th>tpm</th>\n",
       "      <th>age</th>\n",
       "    </tr>\n",
       "  </thead>\n",
       "  <tbody>\n",
       "    <tr>\n",
       "      <th>0</th>\n",
       "      <td>SRR8426373</td>\n",
       "      <td>Ace2</td>\n",
       "      <td>9.537510</td>\n",
       "      <td>22</td>\n",
       "    </tr>\n",
       "    <tr>\n",
       "      <th>1</th>\n",
       "      <td>SRR8426374</td>\n",
       "      <td>Ace2</td>\n",
       "      <td>9.010940</td>\n",
       "      <td>22</td>\n",
       "    </tr>\n",
       "    <tr>\n",
       "      <th>2</th>\n",
       "      <td>SRR8426375</td>\n",
       "      <td>Ace2</td>\n",
       "      <td>6.957190</td>\n",
       "      <td>22</td>\n",
       "    </tr>\n",
       "    <tr>\n",
       "      <th>3</th>\n",
       "      <td>SRR8426376</td>\n",
       "      <td>Ace2</td>\n",
       "      <td>13.515290</td>\n",
       "      <td>3</td>\n",
       "    </tr>\n",
       "    <tr>\n",
       "      <th>4</th>\n",
       "      <td>SRR8426377</td>\n",
       "      <td>Ace2</td>\n",
       "      <td>11.670693</td>\n",
       "      <td>3</td>\n",
       "    </tr>\n",
       "    <tr>\n",
       "      <th>5</th>\n",
       "      <td>SRR8426378</td>\n",
       "      <td>Ace2</td>\n",
       "      <td>11.966414</td>\n",
       "      <td>3</td>\n",
       "    </tr>\n",
       "  </tbody>\n",
       "</table>\n",
       "</div>"
      ],
      "text/plain": [
       "          SRR gene_name        tpm  age\n",
       "0  SRR8426373      Ace2   9.537510   22\n",
       "1  SRR8426374      Ace2   9.010940   22\n",
       "2  SRR8426375      Ace2   6.957190   22\n",
       "3  SRR8426376      Ace2  13.515290    3\n",
       "4  SRR8426377      Ace2  11.670693    3\n",
       "5  SRR8426378      Ace2  11.966414    3"
      ]
     },
     "execution_count": 90,
     "metadata": {},
     "output_type": "execute_result"
    }
   ],
   "source": [
    "tmp"
   ]
  },
  {
   "cell_type": "code",
   "execution_count": 91,
   "metadata": {},
   "outputs": [],
   "source": [
    "young = tmp[tmp.age==3]['tpm'].values\n",
    "old = tmp[tmp.age==22]['tpm'].values\n",
    "stat, p = stats.ttest_ind(young, old)"
   ]
  },
  {
   "cell_type": "code",
   "execution_count": 92,
   "metadata": {},
   "outputs": [
    {
     "data": {
      "image/png": "[encoded data removed]",
      "text/plain": [
       "<Figure size 504x504 with 1 Axes>"
      ]
     },
     "metadata": {
      "image/png": {
       "height": 421,
       "width": 463
      },
      "needs_background": "light"
     },
     "output_type": "display_data"
    }
   ],
   "source": [
    "fig, ax = plt.subplots(figsize=(7,7))\n",
    "\n",
    "gene = \"ACE2\"\n",
    "\n",
    "labels = ['3 month', \"22 month\"]\n",
    "lidx = [1, 2]\n",
    "\n",
    "\n",
    "x = [young, old]\n",
    "\n",
    "parts = ax.violinplot(x, showmedians=False, showextrema=False)\n",
    "for pcidx, pc in enumerate(parts['bodies']):\n",
    "    pc.set_facecolor('#D43F3A')\n",
    "    if pcidx==1: pc.set_facecolor('#1f77b4')\n",
    "    pc.set_edgecolor('black')\n",
    "    pc.set_alpha(1)\n",
    "\n",
    "    \n",
    "mean = [np.mean(i) for i in x]\n",
    "ax.scatter(lidx, mean, marker='o', color='white', s=30, zorder=3)\n",
    "\n",
    "\n",
    "######## Add some random \"jitter\" to the x-axis\n",
    "x = np.random.normal(1, 0.04, size=len(young))\n",
    "ax.scatter(x, young, alpha=1, color=\"k\")\n",
    "\n",
    "x = np.random.normal(2, 0.04, size=len(old))\n",
    "ax.scatter(x, old, alpha=1, color=\"k\")\n",
    "\n",
    "##########\n",
    "ax.set_xticks(lidx)\n",
    "ax.set_xticklabels(labels)\n",
    "\n",
    "\n",
    "\n",
    "ax.annotate(\"p={:,.4f}\".format(p), (1.5, ax.get_ylim()[1]*0.02), ha=\"center\")\n",
    "\n",
    "ax.set_ylim(-0.1)\n",
    "\n",
    "ax.set_ylabel(\"Whole lung bulk $ACE2$ TPM\")\n",
    "plt.savefig(\"./figs/bulk_ace2.png\", bbox_inches='tight',dpi=300)\n",
    "\n",
    "plt.show()"
   ]
  },
  {
   "cell_type": "code",
   "execution_count": 93,
   "metadata": {},
   "outputs": [
    {
     "data": {
      "text/plain": [
       "1.4566345815724433"
      ]
     },
     "execution_count": 93,
     "metadata": {},
     "output_type": "execute_result"
    }
   ],
   "source": [
    "young.mean()/old.mean()"
   ]
  },
  {
   "cell_type": "markdown",
   "metadata": {},
   "source": [
    "# TMPRS22"
   ]
  },
  {
   "cell_type": "code",
   "execution_count": 94,
   "metadata": {},
   "outputs": [],
   "source": [
    "tmprss2 = df[df[\"gene_name\"] == \"Tmprss2\"]"
   ]
  },
  {
   "cell_type": "code",
   "execution_count": 95,
   "metadata": {},
   "outputs": [],
   "source": [
    "tmp = pd.DataFrame(tmprss2.groupby([\"SRR\", \"gene_name\"])[\"tpm\"].sum()).reset_index()\n",
    "tmp[\"age\"] = tmp.SRR.map(age_map)"
   ]
  },
  {
   "cell_type": "code",
   "execution_count": 96,
   "metadata": {},
   "outputs": [
    {
     "data": {
      "text/html": [
       "<div>\n",
       "<style scoped>\n",
       "    .dataframe tbody tr th:only-of-type {\n",
       "        vertical-align: middle;\n",
       "    }\n",
       "\n",
       "    .dataframe tbody tr th {\n",
       "        vertical-align: top;\n",
       "    }\n",
       "\n",
       "    .dataframe thead th {\n",
       "        text-align: right;\n",
       "    }\n",
       "</style>\n",
       "<table border=\"1\" class=\"dataframe\">\n",
       "  <thead>\n",
       "    <tr style=\"text-align: right;\">\n",
       "      <th></th>\n",
       "      <th>SRR</th>\n",
       "      <th>gene_name</th>\n",
       "      <th>tpm</th>\n",
       "      <th>age</th>\n",
       "    </tr>\n",
       "  </thead>\n",
       "  <tbody>\n",
       "    <tr>\n",
       "      <th>0</th>\n",
       "      <td>SRR8426373</td>\n",
       "      <td>Tmprss2</td>\n",
       "      <td>41.286521</td>\n",
       "      <td>22</td>\n",
       "    </tr>\n",
       "    <tr>\n",
       "      <th>1</th>\n",
       "      <td>SRR8426374</td>\n",
       "      <td>Tmprss2</td>\n",
       "      <td>46.281553</td>\n",
       "      <td>22</td>\n",
       "    </tr>\n",
       "    <tr>\n",
       "      <th>2</th>\n",
       "      <td>SRR8426375</td>\n",
       "      <td>Tmprss2</td>\n",
       "      <td>39.110920</td>\n",
       "      <td>22</td>\n",
       "    </tr>\n",
       "    <tr>\n",
       "      <th>3</th>\n",
       "      <td>SRR8426376</td>\n",
       "      <td>Tmprss2</td>\n",
       "      <td>47.914343</td>\n",
       "      <td>3</td>\n",
       "    </tr>\n",
       "    <tr>\n",
       "      <th>4</th>\n",
       "      <td>SRR8426377</td>\n",
       "      <td>Tmprss2</td>\n",
       "      <td>54.135463</td>\n",
       "      <td>3</td>\n",
       "    </tr>\n",
       "    <tr>\n",
       "      <th>5</th>\n",
       "      <td>SRR8426378</td>\n",
       "      <td>Tmprss2</td>\n",
       "      <td>46.573932</td>\n",
       "      <td>3</td>\n",
       "    </tr>\n",
       "  </tbody>\n",
       "</table>\n",
       "</div>"
      ],
      "text/plain": [
       "          SRR gene_name        tpm  age\n",
       "0  SRR8426373   Tmprss2  41.286521   22\n",
       "1  SRR8426374   Tmprss2  46.281553   22\n",
       "2  SRR8426375   Tmprss2  39.110920   22\n",
       "3  SRR8426376   Tmprss2  47.914343    3\n",
       "4  SRR8426377   Tmprss2  54.135463    3\n",
       "5  SRR8426378   Tmprss2  46.573932    3"
      ]
     },
     "execution_count": 96,
     "metadata": {},
     "output_type": "execute_result"
    }
   ],
   "source": [
    "tmp"
   ]
  },
  {
   "cell_type": "code",
   "execution_count": 97,
   "metadata": {},
   "outputs": [
    {
     "data": {
      "text/plain": [
       "age\n",
       "3     49.541246\n",
       "22    42.226331\n",
       "Name: tpm, dtype: float64"
      ]
     },
     "execution_count": 97,
     "metadata": {},
     "output_type": "execute_result"
    }
   ],
   "source": [
    "tmp.groupby(\"age\")[\"tpm\"].mean()"
   ]
  },
  {
   "cell_type": "code",
   "execution_count": null,
   "metadata": {},
   "outputs": [],
   "source": []
  },
  {
   "cell_type": "code",
   "execution_count": 98,
   "metadata": {},
   "outputs": [],
   "source": [
    "young = tmp[tmp.age==3]['tpm'].values\n",
    "old = tmp[tmp.age==22]['tpm'].values\n",
    "stat, p = stats.ttest_ind(young, old)"
   ]
  },
  {
   "cell_type": "code",
   "execution_count": 99,
   "metadata": {},
   "outputs": [
    {
     "data": {
      "image/png": "[encoded data removed]",
      "text/plain": [
       "<Figure size 504x504 with 1 Axes>"
      ]
     },
     "metadata": {
      "image/png": {
       "height": 421,
       "width": 463
      },
      "needs_background": "light"
     },
     "output_type": "display_data"
    }
   ],
   "source": [
    "fig, ax = plt.subplots(figsize=(7,7))\n",
    "\n",
    "gene = \"ACE2\"\n",
    "\n",
    "labels = ['3 month', \"22 month\"]\n",
    "lidx = [1, 2]\n",
    "\n",
    "\n",
    "x = [young, old]\n",
    "\n",
    "parts = ax.violinplot(x, showmedians=False, showextrema=False)\n",
    "for pcidx, pc in enumerate(parts['bodies']):\n",
    "    pc.set_facecolor('#D43F3A')\n",
    "    if pcidx==1: pc.set_facecolor('#1f77b4')\n",
    "    pc.set_edgecolor('black')\n",
    "    pc.set_alpha(1)\n",
    "\n",
    "    \n",
    "mean = [np.mean(i) for i in x]\n",
    "ax.scatter(lidx, mean, marker='o', color='white', s=30, zorder=3)\n",
    "\n",
    "\n",
    "######## Add some random \"jitter\" to the x-axis\n",
    "x = np.random.normal(1, 0.04, size=len(young))\n",
    "ax.scatter(x, young, alpha=1, color=\"k\")\n",
    "\n",
    "x = np.random.normal(2, 0.04, size=len(old))\n",
    "ax.scatter(x, old, alpha=1, color=\"k\")\n",
    "\n",
    "##########\n",
    "ax.set_xticks(lidx)\n",
    "ax.set_xticklabels(labels)\n",
    "\n",
    "\n",
    "\n",
    "ax.annotate(\"p={:,.4f}\".format(p), (1.5, ax.get_ylim()[1]*0.02), ha=\"center\")\n",
    "\n",
    "ax.set_ylim(-0.1)\n",
    "\n",
    "ax.set_ylabel(\"Whole lung bulk $TPMRSS2$ TPM\")\n",
    "plt.savefig(\"./figs/bulk_tmprss2.png\", bbox_inches='tight',dpi=300)\n",
    "\n",
    "plt.show()"
   ]
  },
  {
   "cell_type": "code",
   "execution_count": 100,
   "metadata": {},
   "outputs": [
    {
     "data": {
      "text/plain": [
       "1.17323111806014"
      ]
     },
     "execution_count": 100,
     "metadata": {},
     "output_type": "execute_result"
    }
   ],
   "source": [
    "young.mean()/old.mean()"
   ]
  },
  {
   "cell_type": "code",
   "execution_count": null,
   "metadata": {},
   "outputs": [],
   "source": []
  },
  {
   "cell_type": "code",
   "execution_count": null,
   "metadata": {},
   "outputs": [],
   "source": []
  },
  {
   "cell_type": "code",
   "execution_count": null,
   "metadata": {},
   "outputs": [],
   "source": []
  },
  {
   "cell_type": "code",
   "execution_count": null,
   "metadata": {},
   "outputs": [],
   "source": []
  },
  {
   "cell_type": "code",
   "execution_count": null,
   "metadata": {},
   "outputs": [],
   "source": []
  },
  {
   "cell_type": "code",
   "execution_count": null,
   "metadata": {},
   "outputs": [],
   "source": []
  },
  {
   "cell_type": "code",
   "execution_count": null,
   "metadata": {},
   "outputs": [],
   "source": []
  }
 ],
 "metadata": {
  "anaconda-cloud": {},
  "colab": {
   "include_colab_link": true,
   "name": "mouse_lung.ipynb",
   "provenance": [],
   "toc_visible": true
  },
  "kernelspec": {
   "display_name": "Python 3",
   "language": "python",
   "name": "python3"
  },
  "language_info": {
   "codemirror_mode": {
    "name": "ipython",
    "version": 3
   },
   "file_extension": ".py",
   "mimetype": "text/x-python",
   "name": "python",
   "nbconvert_exporter": "python",
   "pygments_lexer": "ipython3",
   "version": "3.7.4"
  }
 },
 "nbformat": 4,
 "nbformat_minor": 4
}
